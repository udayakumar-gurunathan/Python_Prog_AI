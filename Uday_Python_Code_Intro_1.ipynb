{
  "nbformat": 4,
  "nbformat_minor": 0,
  "metadata": {
    "colab": {
      "provenance": [],
      "authorship_tag": "ABX9TyM2e5Zw8DuId2P7yv6TYymM",
      "include_colab_link": true
    },
    "kernelspec": {
      "name": "python3",
      "display_name": "Python 3"
    },
    "language_info": {
      "name": "python"
    }
  },
  "cells": [
    {
      "cell_type": "markdown",
      "metadata": {
        "id": "view-in-github",
        "colab_type": "text"
      },
      "source": [
        "<a href=\"https://colab.research.google.com/github/udayakumar-gurunathan/Python_Prog_AI/blob/main/Uday_Python_Code_Intro_1.ipynb\" target=\"_parent\"><img src=\"https://colab.research.google.com/assets/colab-badge.svg\" alt=\"Open In Colab\"/></a>"
      ]
    },
    {
      "cell_type": "code",
      "execution_count": null,
      "metadata": {
        "colab": {
          "base_uri": "https://localhost:8080/"
        },
        "id": "E_IbwnSGYvPF",
        "outputId": "569c879b-6222-4ff0-a774-c3edaa698242"
      },
      "outputs": [
        {
          "output_type": "stream",
          "name": "stdout",
          "text": [
            "Hello\n"
          ]
        }
      ],
      "source": [
        "print(\"Hello\") #String"
      ]
    },
    {
      "cell_type": "code",
      "source": [],
      "metadata": {
        "id": "Fam2PRCXTOa-"
      },
      "execution_count": null,
      "outputs": []
    },
    {
      "cell_type": "code",
      "source": [
        "print(\"@#$%^\")"
      ],
      "metadata": {
        "colab": {
          "base_uri": "https://localhost:8080/"
        },
        "id": "d43Ne4qzazHg",
        "outputId": "c46bc69c-b426-4db1-c902-4248f4ee001a"
      },
      "execution_count": null,
      "outputs": [
        {
          "output_type": "stream",
          "name": "stdout",
          "text": [
            "@#$%^\n"
          ]
        }
      ]
    },
    {
      "cell_type": "code",
      "source": [
        "print(1)"
      ],
      "metadata": {
        "colab": {
          "base_uri": "https://localhost:8080/"
        },
        "id": "VACx8Sp0a1cc",
        "outputId": "45d959fe-1763-49ae-9990-5aae5dc369e6"
      },
      "execution_count": null,
      "outputs": [
        {
          "output_type": "stream",
          "name": "stdout",
          "text": [
            "1\n"
          ]
        }
      ]
    },
    {
      "cell_type": "code",
      "source": [
        "print('Welcome to ROPAR')\n"
      ],
      "metadata": {
        "colab": {
          "base_uri": "https://localhost:8080/"
        },
        "id": "kIn3HeQHZZca",
        "outputId": "1be48359-7a72-45fa-dbb7-dd4f59124ea2"
      },
      "execution_count": null,
      "outputs": [
        {
          "output_type": "stream",
          "name": "stdout",
          "text": [
            "Welcome to ROPAR\n"
          ]
        }
      ]
    },
    {
      "cell_type": "code",
      "source": [
        "print(1,\"Hello\")"
      ],
      "metadata": {
        "colab": {
          "base_uri": "https://localhost:8080/"
        },
        "id": "4bzUyLAZbFb6",
        "outputId": "a0714c67-5c75-477c-ed83-a7546c569378"
      },
      "execution_count": null,
      "outputs": [
        {
          "output_type": "stream",
          "name": "stdout",
          "text": [
            "1 Hello\n"
          ]
        }
      ]
    },
    {
      "cell_type": "code",
      "source": [
        "x=1\n",
        "print(x)\n"
      ],
      "metadata": {
        "colab": {
          "base_uri": "https://localhost:8080/"
        },
        "id": "6iiO5GgrbNGj",
        "outputId": "2d6f1584-ded5-4f3e-d8b6-ca396e248870"
      },
      "execution_count": null,
      "outputs": [
        {
          "output_type": "stream",
          "name": "stdout",
          "text": [
            "1\n"
          ]
        }
      ]
    },
    {
      "cell_type": "code",
      "source": [
        "x@1y=4\n",
        "print(x@1y)"
      ],
      "metadata": {
        "colab": {
          "base_uri": "https://localhost:8080/",
          "height": 106
        },
        "id": "BBiBfLKodvwx",
        "outputId": "29ff2fe4-0322-4b95-9401-6755348476fe"
      },
      "execution_count": null,
      "outputs": [
        {
          "output_type": "error",
          "ename": "SyntaxError",
          "evalue": "invalid decimal literal (<ipython-input-7-454e38223773>, line 1)",
          "traceback": [
            "\u001b[0;36m  File \u001b[0;32m\"<ipython-input-7-454e38223773>\"\u001b[0;36m, line \u001b[0;32m1\u001b[0m\n\u001b[0;31m    x@1y=4\u001b[0m\n\u001b[0m      ^\u001b[0m\n\u001b[0;31mSyntaxError\u001b[0m\u001b[0;31m:\u001b[0m invalid decimal literal\n"
          ]
        }
      ]
    },
    {
      "cell_type": "code",
      "source": [
        "x=1\n",
        "y='hello Uday'\n",
        "print(x+y)"
      ],
      "metadata": {
        "colab": {
          "base_uri": "https://localhost:8080/",
          "height": 176
        },
        "id": "I3nV--2Nd5VG",
        "outputId": "151c3fd8-3038-4392-9dd6-fa74189d6f79"
      },
      "execution_count": null,
      "outputs": [
        {
          "output_type": "error",
          "ename": "TypeError",
          "evalue": "unsupported operand type(s) for +: 'int' and 'str'",
          "traceback": [
            "\u001b[0;31m---------------------------------------------------------------------------\u001b[0m",
            "\u001b[0;31mTypeError\u001b[0m                                 Traceback (most recent call last)",
            "\u001b[0;32m<ipython-input-8-bac882b6301f>\u001b[0m in \u001b[0;36m<cell line: 3>\u001b[0;34m()\u001b[0m\n\u001b[1;32m      1\u001b[0m \u001b[0mx\u001b[0m\u001b[0;34m=\u001b[0m\u001b[0;36m1\u001b[0m\u001b[0;34m\u001b[0m\u001b[0;34m\u001b[0m\u001b[0m\n\u001b[1;32m      2\u001b[0m \u001b[0my\u001b[0m\u001b[0;34m=\u001b[0m\u001b[0;34m'hello Uday'\u001b[0m\u001b[0;34m\u001b[0m\u001b[0;34m\u001b[0m\u001b[0m\n\u001b[0;32m----> 3\u001b[0;31m \u001b[0mprint\u001b[0m\u001b[0;34m(\u001b[0m\u001b[0mx\u001b[0m\u001b[0;34m+\u001b[0m\u001b[0my\u001b[0m\u001b[0;34m)\u001b[0m\u001b[0;34m\u001b[0m\u001b[0;34m\u001b[0m\u001b[0m\n\u001b[0m",
            "\u001b[0;31mTypeError\u001b[0m: unsupported operand type(s) for +: 'int' and 'str'"
          ]
        }
      ]
    },
    {
      "cell_type": "code",
      "source": [
        "x=90\n",
        "print(type(x))"
      ],
      "metadata": {
        "colab": {
          "base_uri": "https://localhost:8080/"
        },
        "id": "rYO907kiekZp",
        "outputId": "8493eb2a-4cb1-4110-9a6b-d66e1c1a4493"
      },
      "execution_count": null,
      "outputs": [
        {
          "output_type": "stream",
          "name": "stdout",
          "text": [
            "<class 'int'>\n"
          ]
        }
      ]
    },
    {
      "cell_type": "code",
      "source": [
        "y=1.234\n",
        "cx=19\n",
        "print(y+cx)"
      ],
      "metadata": {
        "colab": {
          "base_uri": "https://localhost:8080/"
        },
        "id": "mmaTU9C7e3mo",
        "outputId": "e9d888fe-faf9-455a-b6b1-07c69ed88be2"
      },
      "execution_count": null,
      "outputs": [
        {
          "output_type": "stream",
          "name": "stdout",
          "text": [
            "20.234\n"
          ]
        }
      ]
    },
    {
      "cell_type": "code",
      "source": [
        "a=True\n",
        "print(type(a))\n"
      ],
      "metadata": {
        "colab": {
          "base_uri": "https://localhost:8080/"
        },
        "id": "m6Ozvt_vfgEs",
        "outputId": "821ea632-3daf-46c5-d814-fb72e4321247"
      },
      "execution_count": null,
      "outputs": [
        {
          "output_type": "stream",
          "name": "stdout",
          "text": [
            "<class 'bool'>\n"
          ]
        }
      ]
    },
    {
      "cell_type": "code",
      "source": [
        "a=2\n",
        "b=3\n",
        "print(a and b)"
      ],
      "metadata": {
        "colab": {
          "base_uri": "https://localhost:8080/"
        },
        "id": "yiIJArBikUkM",
        "outputId": "64337f20-302d-44e6-a05c-569c4362f867"
      },
      "execution_count": null,
      "outputs": [
        {
          "output_type": "stream",
          "name": "stdout",
          "text": [
            "3\n"
          ]
        }
      ]
    },
    {
      "cell_type": "code",
      "source": [
        "x = '''first line\n",
        "second line\n",
        "third line'''\n",
        "print(x)"
      ],
      "metadata": {
        "colab": {
          "base_uri": "https://localhost:8080/"
        },
        "id": "FTxJuOUgTQKI",
        "outputId": "0491e7b6-7cbb-486c-f076-1f57713747d1"
      },
      "execution_count": null,
      "outputs": [
        {
          "output_type": "stream",
          "name": "stdout",
          "text": [
            "first line\n",
            "second line\n",
            "third line\n"
          ]
        }
      ]
    },
    {
      "cell_type": "code",
      "source": [
        "print('python ' *3)"
      ],
      "metadata": {
        "colab": {
          "base_uri": "https://localhost:8080/"
        },
        "id": "cvFSvNSsTxoE",
        "outputId": "2061ea3f-d13d-440f-d8fd-bfccf5a57f05"
      },
      "execution_count": null,
      "outputs": [
        {
          "output_type": "stream",
          "name": "stdout",
          "text": [
            "python python python \n"
          ]
        }
      ]
    },
    {
      "cell_type": "code",
      "source": [
        "for i in range(1,11):\n",
        "  print(i, end='\\r')"
      ],
      "metadata": {
        "colab": {
          "base_uri": "https://localhost:8080/"
        },
        "id": "b4UNPkBwVnnH",
        "outputId": "5b1b21bc-cdf0-475b-d089-bac7b878d46f"
      },
      "execution_count": null,
      "outputs": [
        {
          "output_type": "stream",
          "name": "stdout",
          "text": [
            "1\r2\r3\r4\r5\r6\r7\r8\r9\r10\r"
          ]
        }
      ]
    },
    {
      "cell_type": "code",
      "source": [
        "s='good'\n",
        "y='great'\n",
        "print(s+y+s+s+y*2)"
      ],
      "metadata": {
        "colab": {
          "base_uri": "https://localhost:8080/"
        },
        "id": "cGIPQHIMXIs2",
        "outputId": "e0557199-0e62-490f-cb57-031b701be8e6"
      },
      "execution_count": null,
      "outputs": [
        {
          "output_type": "stream",
          "name": "stdout",
          "text": [
            "goodgreatgoodgoodgreatgreat\n"
          ]
        }
      ]
    },
    {
      "cell_type": "code",
      "source": [
        "for i in range(10,0,-1):\n",
        "  print(i)"
      ],
      "metadata": {
        "colab": {
          "base_uri": "https://localhost:8080/"
        },
        "id": "Vi1X5L_3Z14r",
        "outputId": "9fcc764c-c932-4f9c-9a6f-3cdfb37da70a"
      },
      "execution_count": null,
      "outputs": [
        {
          "output_type": "stream",
          "name": "stdout",
          "text": [
            "10\n",
            "9\n",
            "8\n",
            "7\n",
            "6\n",
            "5\n",
            "4\n",
            "3\n",
            "2\n",
            "1\n"
          ]
        }
      ]
    },
    {
      "cell_type": "code",
      "source": [
        "i=1\n",
        "while i<11:\n",
        "  print(i)\n",
        "  i=i+1"
      ],
      "metadata": {
        "colab": {
          "base_uri": "https://localhost:8080/"
        },
        "id": "yLsV-CWxaCXx",
        "outputId": "6260ad0c-88b1-4c1b-ab4d-d3977eb6049c"
      },
      "execution_count": null,
      "outputs": [
        {
          "output_type": "stream",
          "name": "stdout",
          "text": [
            "1\n",
            "2\n",
            "3\n",
            "4\n",
            "5\n",
            "6\n",
            "7\n",
            "8\n",
            "9\n",
            "10\n"
          ]
        }
      ]
    },
    {
      "cell_type": "code",
      "source": [
        "num =184\n",
        "if num%5 == 0:\n",
        "  print('check')\n",
        "elif num%5 - 4 != 0:\n",
        "  print(num%5 + 1)\n",
        "else:\n",
        "  print('ok')"
      ],
      "metadata": {
        "colab": {
          "base_uri": "https://localhost:8080/"
        },
        "id": "wyQsI3qBcBEr",
        "outputId": "baae49d2-3281-4143-efe1-2c4304fafd11"
      },
      "execution_count": null,
      "outputs": [
        {
          "output_type": "stream",
          "name": "stdout",
          "text": [
            "ok\n"
          ]
        }
      ]
    },
    {
      "cell_type": "code",
      "source": [
        "num =183\n",
        "if num%5==0 and num%3 == 0:\n",
        "  print('check')\n",
        "elif num%5 - 4 != 0:\n",
        "  print(num%5 + 1)\n",
        "else:\n",
        "  print('ok')"
      ],
      "metadata": {
        "colab": {
          "base_uri": "https://localhost:8080/"
        },
        "id": "Mi_WDTNQfEkx",
        "outputId": "16c3d400-30df-4c58-eb03-e1636f046a9a"
      },
      "execution_count": null,
      "outputs": [
        {
          "output_type": "stream",
          "name": "stdout",
          "text": [
            "4\n"
          ]
        }
      ]
    },
    {
      "cell_type": "code",
      "source": [
        "num = 6\n",
        "for i in range(1,num+1):\n",
        "  if num%i ==0:\n",
        "    print(num, \"is divisible by\" , i)"
      ],
      "metadata": {
        "colab": {
          "base_uri": "https://localhost:8080/"
        },
        "id": "mNI1c025fhFx",
        "outputId": "df7dd0d2-213f-422e-b8c5-9d963ed0928c"
      },
      "execution_count": null,
      "outputs": [
        {
          "output_type": "stream",
          "name": "stdout",
          "text": [
            "6 is divisible by 1\n",
            "6 is divisible by 2\n",
            "6 is divisible by 3\n",
            "6 is divisible by 6\n"
          ]
        }
      ]
    },
    {
      "cell_type": "code",
      "source": [
        "num = 7\n",
        "var1=[]\n",
        "for i in range(1,num+1):\n",
        "  if num%i ==0:\n",
        "    var1.append(i)\n",
        "    print(num, \"is divisible by\" , i)\n",
        "print(var1)\n",
        "if len(var1) >2:\n",
        "  print('Not a Prime Number')\n",
        "else:\n",
        "  print('Prime Number')"
      ],
      "metadata": {
        "colab": {
          "base_uri": "https://localhost:8080/"
        },
        "id": "SY41Afj6glI-",
        "outputId": "9a9c7139-b339-4d0c-d1c4-f9e5bc949203"
      },
      "execution_count": null,
      "outputs": [
        {
          "output_type": "stream",
          "name": "stdout",
          "text": [
            "7 is divisible by 1\n",
            "7 is divisible by 7\n",
            "[1, 7]\n",
            "Prime Number\n"
          ]
        }
      ]
    },
    {
      "cell_type": "code",
      "source": [
        "   for a in range(l,r+1):\n",
        "     for i in range(1,a+1):\n",
        "       if a%i ==0:\n",
        "         var1.append(i)\n",
        "       if len(var1) >2:\n",
        "         print('Not a Prime Number')\n",
        "         else:\n",
        "           print('Prime Number', a)\n"
      ],
      "metadata": {
        "id": "CXVieKw2QgJD"
      },
      "execution_count": null,
      "outputs": []
    },
    {
      "cell_type": "code",
      "source": [
        "var1='VALID'\n",
        "print(len(var1))\n",
        "#var1[2]='A'\n",
        "print(var1)"
      ],
      "metadata": {
        "colab": {
          "base_uri": "https://localhost:8080/"
        },
        "id": "XlDluul_nCM2",
        "outputId": "f7c5059a-7558-4f52-db38-e79b8faa1c65"
      },
      "execution_count": null,
      "outputs": [
        {
          "output_type": "stream",
          "name": "stdout",
          "text": [
            "5\n",
            "VALID\n"
          ]
        }
      ]
    },
    {
      "cell_type": "code",
      "source": [
        "E=True\n",
        "if E:\n",
        "  print('good')\n",
        "print('indent')\n"
      ],
      "metadata": {
        "colab": {
          "base_uri": "https://localhost:8080/"
        },
        "id": "C35jvIdfD5u0",
        "outputId": "529edddb-fe20-4061-e37a-cc6d4106c58f"
      },
      "execution_count": null,
      "outputs": [
        {
          "output_type": "stream",
          "name": "stdout",
          "text": [
            "good\n",
            "indent\n"
          ]
        }
      ]
    },
    {
      "cell_type": "code",
      "source": [
        "print('good')\n",
        "\n",
        "print('bad')"
      ],
      "metadata": {
        "colab": {
          "base_uri": "https://localhost:8080/"
        },
        "id": "FjnfoZcSEkAt",
        "outputId": "309c8a9f-8349-414f-b834-3322e01a62be"
      },
      "execution_count": null,
      "outputs": [
        {
          "output_type": "stream",
          "name": "stdout",
          "text": [
            "good\n",
            "bad\n"
          ]
        }
      ]
    },
    {
      "cell_type": "code",
      "source": [
        "bool_var=True\n",
        "x=1\n",
        "if bool_var:\n",
        "  x=x+1\n",
        "  bool_var=not bool_var\n",
        "  print(bool_var)\n"
      ],
      "metadata": {
        "colab": {
          "base_uri": "https://localhost:8080/"
        },
        "id": "8Vo0lrxeFXft",
        "outputId": "9f518020-6e99-4f42-d63a-4dc2bfcc609e"
      },
      "execution_count": null,
      "outputs": [
        {
          "output_type": "stream",
          "name": "stdout",
          "text": [
            "False\n"
          ]
        }
      ]
    },
    {
      "cell_type": "code",
      "source": [
        "a=False\n",
        "b=False\n",
        "if a:\n",
        "  ca=1\n",
        "  print('12')\n",
        "if b:\n",
        "  ca=5\n",
        "  print('34')\n",
        "print(ca)"
      ],
      "metadata": {
        "colab": {
          "base_uri": "https://localhost:8080/",
          "height": 176
        },
        "id": "gFZDHidHHbsV",
        "outputId": "c31b8cf1-a495-49cb-ac3c-ec32a1a1d1d6"
      },
      "execution_count": null,
      "outputs": [
        {
          "output_type": "error",
          "ename": "NameError",
          "evalue": "name 'ca' is not defined",
          "traceback": [
            "\u001b[0;31m---------------------------------------------------------------------------\u001b[0m",
            "\u001b[0;31mNameError\u001b[0m                                 Traceback (most recent call last)",
            "\u001b[0;32m<ipython-input-20-c8b169a17127>\u001b[0m in \u001b[0;36m<cell line: 9>\u001b[0;34m()\u001b[0m\n\u001b[1;32m      7\u001b[0m   \u001b[0mca\u001b[0m\u001b[0;34m=\u001b[0m\u001b[0;36m5\u001b[0m\u001b[0;34m\u001b[0m\u001b[0;34m\u001b[0m\u001b[0m\n\u001b[1;32m      8\u001b[0m   \u001b[0mprint\u001b[0m\u001b[0;34m(\u001b[0m\u001b[0;34m'34'\u001b[0m\u001b[0;34m)\u001b[0m\u001b[0;34m\u001b[0m\u001b[0;34m\u001b[0m\u001b[0m\n\u001b[0;32m----> 9\u001b[0;31m \u001b[0mprint\u001b[0m\u001b[0;34m(\u001b[0m\u001b[0mca\u001b[0m\u001b[0;34m)\u001b[0m\u001b[0;34m\u001b[0m\u001b[0;34m\u001b[0m\u001b[0m\n\u001b[0m",
            "\u001b[0;31mNameError\u001b[0m: name 'ca' is not defined"
          ]
        }
      ]
    },
    {
      "cell_type": "code",
      "source": [
        "word = input()\n",
        "valid = False\n",
        "\n",
        "# both 'a' and 'z' are in lower case\n",
        "if 'a' <= word[0] <= 'z':\n",
        "    print('in loop')\n",
        "    print(word[0])\n",
        "    print(word[-1])\n",
        "    if word[0] == word[-1]:\n",
        "        valid = True\n",
        "\n",
        "print(valid)\n"
      ],
      "metadata": {
        "colab": {
          "base_uri": "https://localhost:8080/"
        },
        "id": "ij6MXFV9J75W",
        "outputId": "68becf85-5e9d-4ef7-e7fe-65c35f1e0de2"
      },
      "execution_count": null,
      "outputs": [
        {
          "output_type": "stream",
          "name": "stdout",
          "text": [
            "TaciT\n",
            "False\n"
          ]
        }
      ]
    },
    {
      "cell_type": "code",
      "source": [
        "a='LearnPythonProgramming'\n",
        "print(a[5:12])"
      ],
      "metadata": {
        "colab": {
          "base_uri": "https://localhost:8080/"
        },
        "id": "rR26sVUGLZs8",
        "outputId": "d642e15a-99d3-493d-c1c5-f9b1f06401a5"
      },
      "execution_count": null,
      "outputs": [
        {
          "output_type": "stream",
          "name": "stdout",
          "text": [
            "PythonP\n"
          ]
        }
      ]
    },
    {
      "cell_type": "code",
      "source": [
        "num=3\n",
        "for i in range(1,11,1):\n",
        "  print(num*i)"
      ],
      "metadata": {
        "colab": {
          "base_uri": "https://localhost:8080/"
        },
        "id": "bR62wRujMRoX",
        "outputId": "548fde28-1b33-4038-9a41-e0ceb0923507"
      },
      "execution_count": null,
      "outputs": [
        {
          "output_type": "stream",
          "name": "stdout",
          "text": [
            "3\n",
            "6\n",
            "9\n",
            "12\n",
            "15\n",
            "18\n",
            "21\n",
            "24\n",
            "27\n",
            "30\n"
          ]
        }
      ]
    },
    {
      "cell_type": "code",
      "source": [
        "# prompt: generate a code to check if the year in a given date is a leap year\n",
        "\n",
        "def is_leap_year(date_str):\n",
        "  \"\"\"\n",
        "  Checks if the year in a given date is a leap year.\n",
        "\n",
        "  Args:\n",
        "    date_str: A string representing a date in the format \"YYYY-MM-DD\".\n",
        "\n",
        "  Returns:\n",
        "    True if the year is a leap year, False otherwise.\n",
        "  \"\"\"\n",
        "  try:\n",
        "    year = int(date_str.split('-')[0])\n",
        "    if (year % 4 == 0 and year % 100 != 0) or year % 400 == 0:\n",
        "      return True\n",
        "    else:\n",
        "      return False\n",
        "  except ValueError:\n",
        "    return False\n",
        "\n",
        "# Example usage\n",
        "date_str = \"2024-03-15\"\n",
        "if is_leap_year(date_str):\n",
        "  print(f\"The year in {date_str} is a leap year.\")\n",
        "else:\n",
        "  print(f\"The year in {date_str} is not a leap year.\")\n"
      ],
      "metadata": {
        "id": "3b4Rl3uuvJVY"
      },
      "execution_count": null,
      "outputs": []
    },
    {
      "cell_type": "code",
      "source": [
        "# prompt: generate a non function code to check if a date string is in YYYY-MM-DD format\n",
        "\n",
        "import re\n",
        "\n",
        "date_str = \"2023-12-25\"\n",
        "pattern = r\"^\\d{4}-\\d{2}-\\d{2}$\"\n",
        "\n",
        "if re.match(pattern, date_str):\n",
        "  print(\"Date string is in YYYY-MM-DD format\")\n",
        "else:\n",
        "  print(\"Date string is not in YYYY-MM-DD format\")\n"
      ],
      "metadata": {
        "id": "wptczsc_xsE-"
      },
      "execution_count": null,
      "outputs": []
    },
    {
      "cell_type": "code",
      "source": [
        "# prompt: generate a code to missing integer in an array of integers in the range of 1 to N without duplicates. Array is of N-1 integers.\n",
        "\n",
        "def find_missing_integer(arr):\n",
        "  \"\"\"\n",
        "  Finds the missing integer in an array of integers in the range of 1 to N without duplicates.\n",
        "  The array is of N-1 integers.\n",
        "\n",
        "  Args:\n",
        "    arr: A list of integers.\n",
        "\n",
        "  Returns:\n",
        "    The missing integer.\n",
        "  \"\"\"\n",
        "  n = len(arr) + 1  # Calculate the expected length of the array\n",
        "  total_sum = (n * (n + 1)) // 2  # Calculate the sum of numbers from 1 to N\n",
        "  actual_sum = sum(arr)  # Calculate the sum of the given array\n",
        "  missing_integer = total_sum - actual_sum  # Find the missing integer\n",
        "  return missing_integer\n"
      ],
      "metadata": {
        "id": "Y5068s650pkU"
      },
      "execution_count": null,
      "outputs": []
    },
    {
      "cell_type": "code",
      "source": [
        "# prompt: generate a code to check if given sentence is a plaindrome or not\n",
        "\n",
        "def is_palindrome(sentence):\n",
        "  \"\"\"\n",
        "  Checks if a given sentence is a palindrome.\n",
        "\n",
        "  Args:\n",
        "    sentence: The sentence to check.\n",
        "\n",
        "  Returns:\n",
        "    True if the sentence is a palindrome, False otherwise.\n",
        "  \"\"\"\n",
        "  # Remove spaces and convert to lowercase\n",
        "  cleaned_sentence = ''.join(c for c in sentence if c.isalnum()).lower()\n",
        "  # Check if the cleaned sentence is equal to its reverse\n",
        "  return cleaned_sentence == cleaned_sentence[::-1]\n",
        "\n",
        "# Example usage\n",
        "sentence = \"Racecar\"\n",
        "if is_palindrome(sentence):\n",
        "  print(f\"'{sentence}' is a palindrome.\")\n",
        "else:\n",
        "  print(f\"'{sentence}' is not a palindrome.\")\n"
      ],
      "metadata": {
        "id": "s1SiAYE15RyZ"
      },
      "execution_count": null,
      "outputs": []
    },
    {
      "cell_type": "code",
      "source": [
        "# prompt: generate non function code to identify median of a set of integers\n",
        "\n",
        "numbers = [1, 3, 5, 7, 9]\n",
        "numbers.sort()\n",
        "n = len(numbers)\n",
        "if n % 2 == 0:\n",
        "  mid1 = numbers[n//2 - 1]\n",
        "  mid2 = numbers[n//2]\n",
        "  median = (mid1 + mid2) / 2\n",
        "else:\n",
        "  median = numbers[n//2]\n",
        "print(\"Median:\", median)\n"
      ],
      "metadata": {
        "id": "4YtV_ya5Gm27"
      },
      "execution_count": null,
      "outputs": []
    },
    {
      "cell_type": "code",
      "source": [
        "f = open(\"names.txt\", \"r+\")\n",
        "f.write(\"hello world\")\n",
        "print(f.read())\n",
        "f.close()\n"
      ],
      "metadata": {
        "colab": {
          "base_uri": "https://localhost:8080/"
        },
        "id": "bxXNtwv4QE-e",
        "outputId": "e2804b6f-cb79-405b-8478-5c01eacf3ea6"
      },
      "execution_count": null,
      "outputs": [
        {
          "output_type": "stream",
          "name": "stdout",
          "text": [
            "\n"
          ]
        }
      ]
    },
    {
      "cell_type": "code",
      "source": [
        "f = open(\"name1.txt\", \"w\")\n",
        "f.write(\"hello world\")\n",
        "f.close()\n",
        "f = open(\"name1.txt\", \"r\")\n",
        "print(f.read())\n",
        "f.close()\n"
      ],
      "metadata": {
        "colab": {
          "base_uri": "https://localhost:8080/"
        },
        "id": "-LS6NGoiUP7v",
        "outputId": "21fe8bfe-dd9e-490d-fa36-18a7568ea987"
      },
      "execution_count": null,
      "outputs": [
        {
          "output_type": "stream",
          "name": "stdout",
          "text": [
            "hello world\n"
          ]
        }
      ]
    },
    {
      "cell_type": "code",
      "source": [
        "a = int(float(input()))\n",
        "b = int(float(input()))\n",
        "print(a + b)\n",
        "\n"
      ],
      "metadata": {
        "colab": {
          "base_uri": "https://localhost:8080/"
        },
        "id": "Z7P5UAgbUms7",
        "outputId": "2036e3d3-889a-41db-c429-e8b5a04c44a4"
      },
      "execution_count": null,
      "outputs": [
        {
          "output_type": "stream",
          "name": "stdout",
          "text": [
            "5.5\n",
            "6.5\n",
            "11\n"
          ]
        }
      ]
    },
    {
      "cell_type": "code",
      "source": [
        "f = open(\"name3.txt\", \"w+\")\n",
        "f.write(\"hello world\")\n",
        "print(f.read())\n",
        "f.close()\n"
      ],
      "metadata": {
        "colab": {
          "base_uri": "https://localhost:8080/"
        },
        "id": "zYSiSWdcVUyh",
        "outputId": "03267af5-b1de-4e23-e1d8-9c65da2ea682"
      },
      "execution_count": null,
      "outputs": [
        {
          "output_type": "stream",
          "name": "stdout",
          "text": [
            "\n"
          ]
        }
      ]
    },
    {
      "cell_type": "code",
      "source": [
        "f = open(\"name4.txt\", \"r+\")\n",
        "f.write(\"hello world\")\n",
        "f.seek(0)\n",
        "print(f.read())\n",
        "f.close()\n"
      ],
      "metadata": {
        "colab": {
          "base_uri": "https://localhost:8080/"
        },
        "id": "fs2sDxySWEh-",
        "outputId": "44eb2023-535f-44a9-b269-8088454f6cc5"
      },
      "execution_count": null,
      "outputs": [
        {
          "output_type": "stream",
          "name": "stdout",
          "text": [
            "hello world\n"
          ]
        }
      ]
    },
    {
      "cell_type": "code",
      "source": [
        "f = open(\"name4.txt\", \"w\")\n",
        "f.write(\"\")\n",
        "f.close()"
      ],
      "metadata": {
        "id": "kQs50o03WSbI"
      },
      "execution_count": null,
      "outputs": []
    },
    {
      "cell_type": "code",
      "source": [
        "f = open(\"name5.txt\", \"w\")\n",
        "f.write(\"hello world\")\n",
        "print(f.read())\n",
        "f.close()\n"
      ],
      "metadata": {
        "colab": {
          "base_uri": "https://localhost:8080/",
          "height": 193
        },
        "id": "4b4pDoK0W0Ah",
        "outputId": "ab5bd493-465f-46e3-903b-e5695ea33561"
      },
      "execution_count": null,
      "outputs": [
        {
          "output_type": "error",
          "ename": "UnsupportedOperation",
          "evalue": "not readable",
          "traceback": [
            "\u001b[0;31m---------------------------------------------------------------------------\u001b[0m",
            "\u001b[0;31mUnsupportedOperation\u001b[0m                      Traceback (most recent call last)",
            "\u001b[0;32m<ipython-input-23-73fd69401d84>\u001b[0m in \u001b[0;36m<cell line: 3>\u001b[0;34m()\u001b[0m\n\u001b[1;32m      1\u001b[0m \u001b[0mf\u001b[0m \u001b[0;34m=\u001b[0m \u001b[0mopen\u001b[0m\u001b[0;34m(\u001b[0m\u001b[0;34m\"name5.txt\"\u001b[0m\u001b[0;34m,\u001b[0m \u001b[0;34m\"w\"\u001b[0m\u001b[0;34m)\u001b[0m\u001b[0;34m\u001b[0m\u001b[0;34m\u001b[0m\u001b[0m\n\u001b[1;32m      2\u001b[0m \u001b[0mf\u001b[0m\u001b[0;34m.\u001b[0m\u001b[0mwrite\u001b[0m\u001b[0;34m(\u001b[0m\u001b[0;34m\"hello world\"\u001b[0m\u001b[0;34m)\u001b[0m\u001b[0;34m\u001b[0m\u001b[0;34m\u001b[0m\u001b[0m\n\u001b[0;32m----> 3\u001b[0;31m \u001b[0mprint\u001b[0m\u001b[0;34m(\u001b[0m\u001b[0mf\u001b[0m\u001b[0;34m.\u001b[0m\u001b[0mread\u001b[0m\u001b[0;34m(\u001b[0m\u001b[0;34m)\u001b[0m\u001b[0;34m)\u001b[0m\u001b[0;34m\u001b[0m\u001b[0;34m\u001b[0m\u001b[0m\n\u001b[0m\u001b[1;32m      4\u001b[0m \u001b[0mf\u001b[0m\u001b[0;34m.\u001b[0m\u001b[0mclose\u001b[0m\u001b[0;34m(\u001b[0m\u001b[0;34m)\u001b[0m\u001b[0;34m\u001b[0m\u001b[0;34m\u001b[0m\u001b[0m\n",
            "\u001b[0;31mUnsupportedOperation\u001b[0m: not readable"
          ]
        }
      ]
    },
    {
      "cell_type": "code",
      "source": [],
      "metadata": {
        "colab": {
          "base_uri": "https://localhost:8080/",
          "height": 425
        },
        "id": "7_wJJKrJqcVO",
        "outputId": "e7cd0548-0fb0-474e-9d9a-ef6747fc7367"
      },
      "execution_count": null,
      "outputs": [
        {
          "name": "stdout",
          "output_type": "stream",
          "text": [
            "1\n",
            "123\n",
            "12345\n"
          ]
        },
        {
          "output_type": "error",
          "ename": "KeyboardInterrupt",
          "evalue": "Interrupted by user",
          "traceback": [
            "\u001b[0;31m---------------------------------------------------------------------------\u001b[0m",
            "\u001b[0;31mKeyboardInterrupt\u001b[0m                         Traceback (most recent call last)",
            "\u001b[0;32m<ipython-input-24-036dff813174>\u001b[0m in \u001b[0;36m<cell line: 4>\u001b[0;34m()\u001b[0m\n\u001b[1;32m      4\u001b[0m \u001b[0;32mwhile\u001b[0m \u001b[0;32mTrue\u001b[0m\u001b[0;34m:\u001b[0m\u001b[0;34m\u001b[0m\u001b[0;34m\u001b[0m\u001b[0m\n\u001b[1;32m      5\u001b[0m   \u001b[0;32mtry\u001b[0m\u001b[0;34m:\u001b[0m\u001b[0;34m\u001b[0m\u001b[0;34m\u001b[0m\u001b[0m\n\u001b[0;32m----> 6\u001b[0;31m     \u001b[0mline\u001b[0m \u001b[0;34m=\u001b[0m \u001b[0minput\u001b[0m\u001b[0;34m(\u001b[0m\u001b[0;34m)\u001b[0m\u001b[0;34m\u001b[0m\u001b[0;34m\u001b[0m\u001b[0m\n\u001b[0m\u001b[1;32m      7\u001b[0m     \u001b[0mlines\u001b[0m\u001b[0;34m.\u001b[0m\u001b[0mappend\u001b[0m\u001b[0;34m(\u001b[0m\u001b[0mline\u001b[0m\u001b[0;34m)\u001b[0m\u001b[0;34m\u001b[0m\u001b[0;34m\u001b[0m\u001b[0m\n\u001b[1;32m      8\u001b[0m   \u001b[0;32mexcept\u001b[0m \u001b[0mEOFError\u001b[0m\u001b[0;34m:\u001b[0m\u001b[0;34m\u001b[0m\u001b[0;34m\u001b[0m\u001b[0m\n",
            "\u001b[0;32m/usr/local/lib/python3.10/dist-packages/ipykernel/kernelbase.py\u001b[0m in \u001b[0;36mraw_input\u001b[0;34m(self, prompt)\u001b[0m\n\u001b[1;32m    849\u001b[0m                 \u001b[0;34m\"raw_input was called, but this frontend does not support input requests.\"\u001b[0m\u001b[0;34m\u001b[0m\u001b[0;34m\u001b[0m\u001b[0m\n\u001b[1;32m    850\u001b[0m             )\n\u001b[0;32m--> 851\u001b[0;31m         return self._input_request(str(prompt),\n\u001b[0m\u001b[1;32m    852\u001b[0m             \u001b[0mself\u001b[0m\u001b[0;34m.\u001b[0m\u001b[0m_parent_ident\u001b[0m\u001b[0;34m,\u001b[0m\u001b[0;34m\u001b[0m\u001b[0;34m\u001b[0m\u001b[0m\n\u001b[1;32m    853\u001b[0m             \u001b[0mself\u001b[0m\u001b[0;34m.\u001b[0m\u001b[0m_parent_header\u001b[0m\u001b[0;34m,\u001b[0m\u001b[0;34m\u001b[0m\u001b[0;34m\u001b[0m\u001b[0m\n",
            "\u001b[0;32m/usr/local/lib/python3.10/dist-packages/ipykernel/kernelbase.py\u001b[0m in \u001b[0;36m_input_request\u001b[0;34m(self, prompt, ident, parent, password)\u001b[0m\n\u001b[1;32m    893\u001b[0m             \u001b[0;32mexcept\u001b[0m \u001b[0mKeyboardInterrupt\u001b[0m\u001b[0;34m:\u001b[0m\u001b[0;34m\u001b[0m\u001b[0;34m\u001b[0m\u001b[0m\n\u001b[1;32m    894\u001b[0m                 \u001b[0;31m# re-raise KeyboardInterrupt, to truncate traceback\u001b[0m\u001b[0;34m\u001b[0m\u001b[0;34m\u001b[0m\u001b[0m\n\u001b[0;32m--> 895\u001b[0;31m                 \u001b[0;32mraise\u001b[0m \u001b[0mKeyboardInterrupt\u001b[0m\u001b[0;34m(\u001b[0m\u001b[0;34m\"Interrupted by user\"\u001b[0m\u001b[0;34m)\u001b[0m \u001b[0;32mfrom\u001b[0m \u001b[0;32mNone\u001b[0m\u001b[0;34m\u001b[0m\u001b[0;34m\u001b[0m\u001b[0m\n\u001b[0m\u001b[1;32m    896\u001b[0m             \u001b[0;32mexcept\u001b[0m \u001b[0mException\u001b[0m \u001b[0;32mas\u001b[0m \u001b[0me\u001b[0m\u001b[0;34m:\u001b[0m\u001b[0;34m\u001b[0m\u001b[0;34m\u001b[0m\u001b[0m\n\u001b[1;32m    897\u001b[0m                 \u001b[0mself\u001b[0m\u001b[0;34m.\u001b[0m\u001b[0mlog\u001b[0m\u001b[0;34m.\u001b[0m\u001b[0mwarning\u001b[0m\u001b[0;34m(\u001b[0m\u001b[0;34m\"Invalid Message:\"\u001b[0m\u001b[0;34m,\u001b[0m \u001b[0mexc_info\u001b[0m\u001b[0;34m=\u001b[0m\u001b[0;32mTrue\u001b[0m\u001b[0;34m)\u001b[0m\u001b[0;34m\u001b[0m\u001b[0;34m\u001b[0m\u001b[0m\n",
            "\u001b[0;31mKeyboardInterrupt\u001b[0m: Interrupted by user"
          ]
        }
      ]
    },
    {
      "cell_type": "code",
      "source": [
        "# prompt: generate non function code to use eval function  to  evaluate an mathematical expression and print without printing none\n",
        "\n",
        "expression=input()\n",
        "expression = expression.replace(\"plus\", \"+\")\n",
        "expression = expression.replace(\"minus\", \"-\")\n",
        "expression = expression.replace(\"times\", \"*\")\n",
        "expression = expression.replace(\"divided by\", \"/\")\n",
        "# Evaluate the expression\n",
        "print(expression)\n",
        "result=eval(expression)\n",
        "print(float(result))"
      ],
      "metadata": {
        "colab": {
          "base_uri": "https://localhost:8080/"
        },
        "id": "aMAEClQf45Nb",
        "outputId": "3dc9a512-cc56-4041-d72f-47e0f58f9ec6"
      },
      "execution_count": null,
      "outputs": [
        {
          "output_type": "stream",
          "name": "stdout",
          "text": [
            "5+(3*2)\n",
            "5+(3*2)\n",
            "11.0\n"
          ]
        }
      ]
    },
    {
      "cell_type": "code",
      "source": [
        "# prompt: generate a code which will take input of multiple words identify palindrome words, words with most vowels, case insensitive duplicate words and print them\n",
        "\n",
        "def find_palindromes(words):\n",
        "  \"\"\"\n",
        "  Finds palindrome words in a list of words.\n",
        "\n",
        "  Args:\n",
        "    words: A list of words.\n",
        "\n",
        "  Returns:\n",
        "    A list of palindrome words.\n",
        "  \"\"\"\n",
        "  palindromes = []\n",
        "  for word in words:\n",
        "    # Remove spaces and convert to lowercase\n",
        "    cleaned_word = ''.join(c for c in word if c.isalnum()).lower()\n",
        "    # Check if the cleaned word is equal to its reverse\n",
        "    if cleaned_word == cleaned_word[::-1]:\n",
        "      palindromes.append(word)\n",
        "  return palindromes\n",
        "\n",
        "def find_words_with_most_vowels(words):\n",
        "  \"\"\"\n",
        "  Finds words with the most vowels in a list of words.\n",
        "\n",
        "  Args:\n",
        "    words: A list of words.\n",
        "\n",
        "  Returns:\n",
        "    A list of words with the most vowels.\n",
        "  \"\"\"\n",
        "  vowels = \"aeiouAEIOU\"\n",
        "  max_vowels = 0\n",
        "  words_with_most_vowels = []\n",
        "  for word in words:\n",
        "    vowel_count = sum(1 for char in word if char in vowels)\n",
        "    if vowel_count > max_vowels:\n",
        "      max_vowels = vowel_count\n",
        "      words_with_most_vowels = [word]\n",
        "    elif vowel_count == max_vowels:\n",
        "      words_with_most_vowels.append(word)\n",
        "  return words_with_most_vowels\n",
        "\n",
        "def find_duplicate_words(words):\n",
        "  \"\"\"\n",
        "  Finds case-insensitive duplicate words in a list of words.\n",
        "\n",
        "  Args:\n",
        "    words: A list of words.\n",
        "\n",
        "  Returns:\n",
        "    A list of duplicate words.\n",
        "  \"\"\"\n",
        "  word_counts = {}\n",
        "  duplicates = []\n",
        "  for word in words:\n",
        "    lower_word = word.lower()\n",
        "    if lower_word in word_counts:\n",
        "      word_counts[lower_word] += 1\n",
        "      if word_counts[lower_word] == 2:\n",
        "        duplicates.append(word)\n",
        "    else:\n",
        "      word_counts[lower_word] = 1\n",
        "  return duplicates\n",
        "\n",
        "# Get input from the user\n",
        "input_string = input(\"Enter multiple words separated by spaces: \")\n",
        "words = input_string.split()\n",
        "\n",
        "# Find palindromes\n",
        "palindromes = find_palindromes(words)\n",
        "print(\"Palindrome words:\", palindromes)\n",
        "\n",
        "# Find words with most vowels\n",
        "words_with_most_vowels = find_words_with_most_vowels(words)\n",
        "print(\"Words with most vowels:\", words_with_most_vowels)\n",
        "\n",
        "# Find duplicate words\n",
        "duplicate_words = find_duplicate_words(words)\n",
        "print(\"Duplicate words (case-insensitive):\", duplicate_words)\n"
      ],
      "metadata": {
        "id": "HqRDslxMDO2F"
      },
      "execution_count": null,
      "outputs": []
    },
    {
      "cell_type": "code",
      "source": [
        "# prompt: generate non function code to identify palindromes from a list of words case insensitive\n",
        "\n",
        "words = [\"Racecar\", \"Level\", \"Hello\", \"Madam\", \"Python\"]\n",
        "palindromes = []\n",
        "for word in words:\n",
        "  # Remove spaces and convert to lowercase\n",
        "  cleaned_word = ''.join(c for c in word if c.isalnum()).lower()\n",
        "  # Check if the cleaned word is equal to its reverse\n",
        "  if cleaned_word == cleaned_word[::-1]:\n",
        "    palindromes.append(word)\n",
        "print(\"Palindrome words:\", palindromes)\n"
      ],
      "metadata": {
        "colab": {
          "base_uri": "https://localhost:8080/"
        },
        "id": "T46k6zhqXJ6r",
        "outputId": "38429bf7-8f96-4134-c4ae-632cb3084613"
      },
      "execution_count": null,
      "outputs": [
        {
          "output_type": "stream",
          "name": "stdout",
          "text": [
            "apple, banana, cherry\n"
          ]
        }
      ]
    },
    {
      "cell_type": "code",
      "source": [
        "#\"hello\" - Plain Text\n",
        "\n",
        "# shift this plain text by 3\n",
        "\n",
        "# \"khoor\" - Cipher text/encrypted text\n",
        "\n",
        "# Assume shift = 3\n",
        "# a --> d\n",
        "# c--> f\n",
        "\n",
        "# ASCII - a to z - 97 to 122\n",
        "#          A to Z - 65 to 90\n",
        "\n",
        "\n",
        "# print(ord('a'))\n",
        "# print(ord('b'))\n",
        "\n",
        "# consider only lower case\n",
        "\n",
        "# print(chr(97))\n",
        "# print(chr(122))\n",
        "\n",
        "# Assume you have this character 'e' to be encrypted by shift 3\n",
        "\n",
        "# a   b  c  d   e   f   g   h\n",
        "# 97 98 99 100 101 102\n",
        "# 0   1  2  3  4   ...\n",
        "\n",
        "\n",
        "\n",
        "# print((ord('x')-ord('a')+3)%26+ord('a'))\n",
        "print((ord('y')-ord('a')+3)+ord('a'))\n",
        "\n",
        "# print(chr((ord('e')-ord('a')+3)))\n",
        "print(chr(123))\n",
        "\n",
        "\n",
        "\n",
        "\n"
      ],
      "metadata": {
        "id": "NGWPRkX30YCX"
      },
      "execution_count": null,
      "outputs": []
    },
    {
      "cell_type": "code",
      "source": [
        "# prompt: generate a non function code to display factorial of a given number\n",
        "\n",
        "num = int(input(\"Enter a number: \"))\n",
        "factorial = 1\n",
        "if num < 0:\n",
        "  print(\"Factorial is not defined for negative numbers.\")\n",
        "elif num == 0:\n",
        "  print(\"The factorial of 0 is 1.\")\n",
        "else:\n",
        "  for i in range(1, num + 1):\n",
        "    factorial *= i\n",
        "  print(\"The factorial of\", num, \"is\", factorial)\n"
      ],
      "metadata": {
        "colab": {
          "base_uri": "https://localhost:8080/",
          "height": 193
        },
        "id": "b_ZUVU1Y1PE2",
        "outputId": "882442c4-8c8a-4203-d2f1-5f02fb4cacf4"
      },
      "execution_count": null,
      "outputs": [
        {
          "output_type": "stream",
          "name": "stdout",
          "text": [
            "1\n"
          ]
        },
        {
          "output_type": "error",
          "ename": "TypeError",
          "evalue": "'tuple' object does not support item assignment",
          "traceback": [
            "\u001b[0;31m---------------------------------------------------------------------------\u001b[0m",
            "\u001b[0;31mTypeError\u001b[0m                                 Traceback (most recent call last)",
            "\u001b[0;32m<ipython-input-4-08ad043b4b5d>\u001b[0m in \u001b[0;36m<cell line: 5>\u001b[0;34m()\u001b[0m\n\u001b[1;32m      3\u001b[0m \u001b[0;34m\u001b[0m\u001b[0m\n\u001b[1;32m      4\u001b[0m \u001b[0mmytuple\u001b[0m\u001b[0;34m=\u001b[0m\u001b[0;34m(\u001b[0m\u001b[0;36m1\u001b[0m\u001b[0;34m,\u001b[0m\u001b[0;36m2\u001b[0m\u001b[0;34m,\u001b[0m\u001b[0;36m3\u001b[0m\u001b[0;34m)\u001b[0m\u001b[0;34m\u001b[0m\u001b[0;34m\u001b[0m\u001b[0m\n\u001b[0;32m----> 5\u001b[0;31m \u001b[0mmytuple\u001b[0m\u001b[0;34m[\u001b[0m\u001b[0;36m1\u001b[0m\u001b[0;34m]\u001b[0m \u001b[0;34m=\u001b[0m \u001b[0;36m4\u001b[0m\u001b[0;34m\u001b[0m\u001b[0;34m\u001b[0m\u001b[0m\n\u001b[0m",
            "\u001b[0;31mTypeError\u001b[0m: 'tuple' object does not support item assignment"
          ]
        }
      ]
    },
    {
      "cell_type": "code",
      "source": [
        "#display the current time\n",
        "\n",
        "import datetime\n",
        "\n",
        "current_time = datetime.datetime.now()\n",
        "\n",
        "print(\"Current time:\", current_time)\n",
        "\n",
        "#ask for todays date in DD-MM-YYYY format\n",
        "\n",
        "date_str = input(\"Enter today's date (DD-MM-YYYY): \")\n"
      ],
      "metadata": {
        "colab": {
          "base_uri": "https://localhost:8080/"
        },
        "id": "FGtNjXpk588L",
        "outputId": "e1f7280a-967d-4878-ee3e-0ae08f403ebf"
      },
      "execution_count": null,
      "outputs": [
        {
          "output_type": "stream",
          "name": "stdout",
          "text": [
            "Current time: 2024-09-14 09:41:02.410359\n"
          ]
        }
      ]
    },
    {
      "cell_type": "code",
      "source": [
        "# prompt: randomly generate numbers between 1 to 10 inclusive and name it as winning_horse\n",
        "\n",
        "import random\n",
        "\n",
        "winning_horse = random.randint(1, 10)\n",
        "print(winning_horse)\n"
      ],
      "metadata": {
        "colab": {
          "base_uri": "https://localhost:8080/"
        },
        "id": "hj6QL_sL8olx",
        "outputId": "5bfbd02a-0bff-47c6-bbce-c6b8201f082e"
      },
      "execution_count": null,
      "outputs": [
        {
          "output_type": "stream",
          "name": "stdout",
          "text": [
            "3\n"
          ]
        }
      ]
    },
    {
      "cell_type": "code",
      "source": [
        "# prompt: choose a random number between 1 to 10 and name it as my_bet and print it\n",
        "\n",
        "import random\n",
        "\n",
        "my_bet = random.randint(1, 10)\n",
        "print(my_bet)\n"
      ],
      "metadata": {
        "id": "Ng_sLBiT-RJU"
      },
      "execution_count": null,
      "outputs": []
    },
    {
      "cell_type": "code",
      "source": [
        "# prompt: generate 2 random numbers between 1 to 10 and call the first random number as winning_horse and the second one as my_bet and print them. If the numbers are same display \"Hurray\" else display \" I lost\"\n",
        "\n",
        "import random\n",
        "\n",
        "winning_horse = random.randint(1, 10)\n",
        "my_bet = random.randint(1, 10)\n",
        "\n",
        "print(\"Winning horse:\", winning_horse)\n",
        "print(\"My bet:\", my_bet)\n",
        "\n",
        "if winning_horse == my_bet:\n",
        "  print(\"Hurray!\")\n",
        "else:\n",
        "  print(\"I lost\")\n"
      ],
      "metadata": {
        "colab": {
          "base_uri": "https://localhost:8080/"
        },
        "id": "5uhq05vz-oGe",
        "outputId": "46acd32b-cb18-44ff-9817-03e89ba7429f"
      },
      "execution_count": null,
      "outputs": [
        {
          "output_type": "stream",
          "name": "stdout",
          "text": [
            "Winning horse: 5\n",
            "My bet: 2\n",
            "I lost\n"
          ]
        }
      ]
    },
    {
      "cell_type": "code",
      "source": [
        "# prompt: create a function that generates random number between 1 to 10 and returns it and name it as winningHorse\n",
        "\n",
        "import random\n",
        "\n",
        "def winningHorse():\n",
        "  \"\"\"Generates a random number between 1 and 10 (inclusive) and returns it.\"\"\"\n",
        "  return random.randint(1, 10)\n"
      ],
      "metadata": {
        "id": "PDZtbuYL_yeJ"
      },
      "execution_count": null,
      "outputs": []
    },
    {
      "cell_type": "code",
      "source": [
        "# prompt: test this function. Do not use complicated terms just print ALL Good if function works as expected\n",
        "\n",
        "def winningHorse():\n",
        "  \"\"\"Generates a random number between 1 and 10 (inclusive) and returns it.\"\"\"\n",
        "  return random.randint(1, 10)\n",
        "\n",
        "# Test the function\n",
        "result = winningHorse()\n",
        "if 1 <= result <= 10:\n",
        "  print(\"ALL Good\")\n",
        "else:\n",
        "  print(\"Function not working as expected\")\n"
      ],
      "metadata": {
        "colab": {
          "base_uri": "https://localhost:8080/"
        },
        "id": "8nXZ6wW2EDiT",
        "outputId": "c8c00d20-bc8d-4607-c966-eecdbbf75047"
      },
      "execution_count": null,
      "outputs": [
        {
          "output_type": "stream",
          "name": "stdout",
          "text": [
            "ALL Good\n"
          ]
        }
      ]
    },
    {
      "cell_type": "code",
      "source": [
        "# prompt: similarly create another function that gives a random number in the range 1 to 10 and call it my_bet\n",
        "\n",
        "import random\n",
        "\n",
        "def my_bet():\n",
        "  \"\"\"Generates a random number between 1 and 10 (inclusive) and returns it.\"\"\"\n",
        "  return random.randint(1, 10)\n",
        "\n",
        "# Test the function\n",
        "result = my_bet()\n",
        "if 1 <= result <= 10:\n",
        "  print(\"ALL Good\")\n",
        "else:\n",
        "  print(\"Function not working as expected\")\n"
      ],
      "metadata": {
        "id": "lWdkMiDiEUP_"
      },
      "execution_count": null,
      "outputs": []
    },
    {
      "cell_type": "code",
      "source": [
        "# prompt: define a function name game. this function check if winingHorse and my_bet function is same. If same then it will add 800 rupees else removes 100\n",
        "\n",
        "def game():\n",
        "  \"\"\"Plays a horse racing game and updates the balance based on the outcome.\"\"\"\n",
        "  winning_horse_num = winningHorse()\n",
        "  my_bet_num = my_bet()\n",
        "\n",
        "  print(\"Winning horse:\", winning_horse_num)\n",
        "  print(\"My bet:\", my_bet_num)\n",
        "\n",
        "  if winning_horse_num == my_bet_num:\n",
        "    print(\"Hurray! You won 800 rupees.\")\n",
        "    return 800\n",
        "  else:\n",
        "    print(\"I lost 100 rupees.\")\n",
        "    return -100\n"
      ],
      "metadata": {
        "id": "60-f1rNlEpy6"
      },
      "execution_count": null,
      "outputs": []
    },
    {
      "cell_type": "code",
      "source": [
        "# prompt: generate a function that will generate a random number between 1 to 100 inclusive and name it as winning_horse. Add another function that will generate a random number 1 to 100 and name it as my_selection.\n",
        "\n",
        "import random\n",
        "\n",
        "def winning_horse():\n",
        "  \"\"\"Generates a random number between 1 and 100 (inclusive) and returns it.\"\"\"\n",
        "  return random.randint(1, 100)\n",
        "\n",
        "def my_selection():\n",
        "  \"\"\"Generates a random number between 1 and 100 (inclusive) and returns it.\"\"\"\n",
        "  return random.randint(1, 100)\n"
      ],
      "metadata": {
        "id": "KhGyXIvHG1wy"
      },
      "execution_count": null,
      "outputs": []
    },
    {
      "cell_type": "code",
      "source": [
        "# prompt: define a function name game. this function check if winingHorse and my_bet function is same. If same then it will add 800 rupees else removes 100.\n",
        "\n",
        "def game():\n",
        "  \"\"\"Plays a horse racing game and updates the balance based on the outcome.\"\"\"\n",
        "  winning_horse_num = winningHorse()\n",
        "  my_bet_num = my_bet()\n",
        "\n",
        "  print(\"Winning horse:\", winning_horse_num)\n",
        "  print(\"My bet:\", my_bet_num)\n",
        "\n",
        "  if winning_horse_num == my_bet_num:\n",
        "    print(\"Hurray! You won 800 rupees.\")\n",
        "    return 800\n",
        "  else:\n",
        "    print(\"I lost 100 rupees.\")\n",
        "    return -100\n"
      ],
      "metadata": {
        "id": "PN6L-goAHz77"
      },
      "execution_count": null,
      "outputs": []
    },
    {
      "cell_type": "code",
      "source": [
        "# prompt: in the above code consider opening balance of 1000000 and play game for 100 times\n",
        "\n",
        "import re\n",
        "import datetime\n",
        "import random\n",
        "\n",
        "def winningHorse():\n",
        "  \"\"\"Generates a random number between 1 and 100 (inclusive) and returns it.\"\"\"\n",
        "  return random.randint(1, 100)\n",
        "\n",
        "def my_bet():\n",
        "  \"\"\"Generates a random number between 1 and 100 (inclusive) and returns it.\"\"\"\n",
        "  return random.randint(1, 100)\n",
        "\n",
        "\n",
        "def game():\n",
        "  \"\"\"Plays a horse racing game and updates the balance based on the outcome.\"\"\"\n",
        "  winning_horse_num = winningHorse()\n",
        "  my_bet_num = my_bet()\n",
        "\n",
        "  print(\"Winning horse:\", winning_horse_num)\n",
        "  print(\"My bet:\", my_bet_num)\n",
        "\n",
        "  if winning_horse_num == my_bet_num:\n",
        "    print(\"Hurray! You won 800 rupees.\")\n",
        "    return 800\n",
        "  else:\n",
        "    print(\"I lost 100 rupees.\")\n",
        "    return -100\n",
        "\n",
        "\n",
        "balance = 1000000\n",
        "for _ in range(100):\n",
        "  result = game()\n",
        "  balance += result\n",
        "  print(\"Current balance:\", balance)\n"
      ],
      "metadata": {
        "colab": {
          "base_uri": "https://localhost:8080/"
        },
        "id": "TazD7g3aIbJD",
        "outputId": "f106982b-3504-4b4c-f511-534f95b8b2fe",
        "collapsed": true
      },
      "execution_count": null,
      "outputs": [
        {
          "output_type": "stream",
          "name": "stdout",
          "text": [
            "Winning horse: 36\n",
            "My bet: 72\n",
            "I lost 100 rupees.\n",
            "Current balance: 999900\n",
            "Winning horse: 92\n",
            "My bet: 33\n",
            "I lost 100 rupees.\n",
            "Current balance: 999800\n",
            "Winning horse: 87\n",
            "My bet: 20\n",
            "I lost 100 rupees.\n",
            "Current balance: 999700\n",
            "Winning horse: 6\n",
            "My bet: 40\n",
            "I lost 100 rupees.\n",
            "Current balance: 999600\n",
            "Winning horse: 37\n",
            "My bet: 56\n",
            "I lost 100 rupees.\n",
            "Current balance: 999500\n",
            "Winning horse: 71\n",
            "My bet: 12\n",
            "I lost 100 rupees.\n",
            "Current balance: 999400\n",
            "Winning horse: 89\n",
            "My bet: 66\n",
            "I lost 100 rupees.\n",
            "Current balance: 999300\n",
            "Winning horse: 6\n",
            "My bet: 11\n",
            "I lost 100 rupees.\n",
            "Current balance: 999200\n",
            "Winning horse: 63\n",
            "My bet: 51\n",
            "I lost 100 rupees.\n",
            "Current balance: 999100\n",
            "Winning horse: 83\n",
            "My bet: 20\n",
            "I lost 100 rupees.\n",
            "Current balance: 999000\n",
            "Winning horse: 23\n",
            "My bet: 77\n",
            "I lost 100 rupees.\n",
            "Current balance: 998900\n",
            "Winning horse: 45\n",
            "My bet: 57\n",
            "I lost 100 rupees.\n",
            "Current balance: 998800\n",
            "Winning horse: 13\n",
            "My bet: 27\n",
            "I lost 100 rupees.\n",
            "Current balance: 998700\n",
            "Winning horse: 81\n",
            "My bet: 86\n",
            "I lost 100 rupees.\n",
            "Current balance: 998600\n",
            "Winning horse: 53\n",
            "My bet: 84\n",
            "I lost 100 rupees.\n",
            "Current balance: 998500\n",
            "Winning horse: 10\n",
            "My bet: 2\n",
            "I lost 100 rupees.\n",
            "Current balance: 998400\n",
            "Winning horse: 29\n",
            "My bet: 56\n",
            "I lost 100 rupees.\n",
            "Current balance: 998300\n",
            "Winning horse: 54\n",
            "My bet: 81\n",
            "I lost 100 rupees.\n",
            "Current balance: 998200\n",
            "Winning horse: 12\n",
            "My bet: 33\n",
            "I lost 100 rupees.\n",
            "Current balance: 998100\n",
            "Winning horse: 100\n",
            "My bet: 30\n",
            "I lost 100 rupees.\n",
            "Current balance: 998000\n",
            "Winning horse: 25\n",
            "My bet: 49\n",
            "I lost 100 rupees.\n",
            "Current balance: 997900\n",
            "Winning horse: 98\n",
            "My bet: 19\n",
            "I lost 100 rupees.\n",
            "Current balance: 997800\n",
            "Winning horse: 19\n",
            "My bet: 55\n",
            "I lost 100 rupees.\n",
            "Current balance: 997700\n",
            "Winning horse: 26\n",
            "My bet: 5\n",
            "I lost 100 rupees.\n",
            "Current balance: 997600\n",
            "Winning horse: 44\n",
            "My bet: 82\n",
            "I lost 100 rupees.\n",
            "Current balance: 997500\n",
            "Winning horse: 64\n",
            "My bet: 56\n",
            "I lost 100 rupees.\n",
            "Current balance: 997400\n",
            "Winning horse: 66\n",
            "My bet: 20\n",
            "I lost 100 rupees.\n",
            "Current balance: 997300\n",
            "Winning horse: 26\n",
            "My bet: 22\n",
            "I lost 100 rupees.\n",
            "Current balance: 997200\n",
            "Winning horse: 62\n",
            "My bet: 58\n",
            "I lost 100 rupees.\n",
            "Current balance: 997100\n",
            "Winning horse: 53\n",
            "My bet: 17\n",
            "I lost 100 rupees.\n",
            "Current balance: 997000\n",
            "Winning horse: 33\n",
            "My bet: 63\n",
            "I lost 100 rupees.\n",
            "Current balance: 996900\n",
            "Winning horse: 98\n",
            "My bet: 95\n",
            "I lost 100 rupees.\n",
            "Current balance: 996800\n",
            "Winning horse: 64\n",
            "My bet: 71\n",
            "I lost 100 rupees.\n",
            "Current balance: 996700\n",
            "Winning horse: 49\n",
            "My bet: 4\n",
            "I lost 100 rupees.\n",
            "Current balance: 996600\n",
            "Winning horse: 18\n",
            "My bet: 55\n",
            "I lost 100 rupees.\n",
            "Current balance: 996500\n",
            "Winning horse: 92\n",
            "My bet: 59\n",
            "I lost 100 rupees.\n",
            "Current balance: 996400\n",
            "Winning horse: 40\n",
            "My bet: 32\n",
            "I lost 100 rupees.\n",
            "Current balance: 996300\n",
            "Winning horse: 22\n",
            "My bet: 37\n",
            "I lost 100 rupees.\n",
            "Current balance: 996200\n",
            "Winning horse: 72\n",
            "My bet: 14\n",
            "I lost 100 rupees.\n",
            "Current balance: 996100\n",
            "Winning horse: 16\n",
            "My bet: 95\n",
            "I lost 100 rupees.\n",
            "Current balance: 996000\n",
            "Winning horse: 78\n",
            "My bet: 42\n",
            "I lost 100 rupees.\n",
            "Current balance: 995900\n",
            "Winning horse: 44\n",
            "My bet: 40\n",
            "I lost 100 rupees.\n",
            "Current balance: 995800\n",
            "Winning horse: 84\n",
            "My bet: 57\n",
            "I lost 100 rupees.\n",
            "Current balance: 995700\n",
            "Winning horse: 9\n",
            "My bet: 78\n",
            "I lost 100 rupees.\n",
            "Current balance: 995600\n",
            "Winning horse: 38\n",
            "My bet: 83\n",
            "I lost 100 rupees.\n",
            "Current balance: 995500\n",
            "Winning horse: 56\n",
            "My bet: 69\n",
            "I lost 100 rupees.\n",
            "Current balance: 995400\n",
            "Winning horse: 16\n",
            "My bet: 24\n",
            "I lost 100 rupees.\n",
            "Current balance: 995300\n",
            "Winning horse: 3\n",
            "My bet: 50\n",
            "I lost 100 rupees.\n",
            "Current balance: 995200\n",
            "Winning horse: 92\n",
            "My bet: 57\n",
            "I lost 100 rupees.\n",
            "Current balance: 995100\n",
            "Winning horse: 31\n",
            "My bet: 64\n",
            "I lost 100 rupees.\n",
            "Current balance: 995000\n",
            "Winning horse: 17\n",
            "My bet: 30\n",
            "I lost 100 rupees.\n",
            "Current balance: 994900\n",
            "Winning horse: 27\n",
            "My bet: 5\n",
            "I lost 100 rupees.\n",
            "Current balance: 994800\n",
            "Winning horse: 93\n",
            "My bet: 45\n",
            "I lost 100 rupees.\n",
            "Current balance: 994700\n",
            "Winning horse: 10\n",
            "My bet: 94\n",
            "I lost 100 rupees.\n",
            "Current balance: 994600\n",
            "Winning horse: 14\n",
            "My bet: 88\n",
            "I lost 100 rupees.\n",
            "Current balance: 994500\n",
            "Winning horse: 99\n",
            "My bet: 97\n",
            "I lost 100 rupees.\n",
            "Current balance: 994400\n",
            "Winning horse: 63\n",
            "My bet: 78\n",
            "I lost 100 rupees.\n",
            "Current balance: 994300\n",
            "Winning horse: 76\n",
            "My bet: 61\n",
            "I lost 100 rupees.\n",
            "Current balance: 994200\n",
            "Winning horse: 4\n",
            "My bet: 6\n",
            "I lost 100 rupees.\n",
            "Current balance: 994100\n",
            "Winning horse: 99\n",
            "My bet: 14\n",
            "I lost 100 rupees.\n",
            "Current balance: 994000\n",
            "Winning horse: 30\n",
            "My bet: 60\n",
            "I lost 100 rupees.\n",
            "Current balance: 993900\n",
            "Winning horse: 35\n",
            "My bet: 87\n",
            "I lost 100 rupees.\n",
            "Current balance: 993800\n",
            "Winning horse: 71\n",
            "My bet: 26\n",
            "I lost 100 rupees.\n",
            "Current balance: 993700\n",
            "Winning horse: 2\n",
            "My bet: 91\n",
            "I lost 100 rupees.\n",
            "Current balance: 993600\n",
            "Winning horse: 89\n",
            "My bet: 83\n",
            "I lost 100 rupees.\n",
            "Current balance: 993500\n",
            "Winning horse: 89\n",
            "My bet: 54\n",
            "I lost 100 rupees.\n",
            "Current balance: 993400\n",
            "Winning horse: 86\n",
            "My bet: 24\n",
            "I lost 100 rupees.\n",
            "Current balance: 993300\n",
            "Winning horse: 7\n",
            "My bet: 94\n",
            "I lost 100 rupees.\n",
            "Current balance: 993200\n",
            "Winning horse: 20\n",
            "My bet: 79\n",
            "I lost 100 rupees.\n",
            "Current balance: 993100\n",
            "Winning horse: 50\n",
            "My bet: 78\n",
            "I lost 100 rupees.\n",
            "Current balance: 993000\n",
            "Winning horse: 91\n",
            "My bet: 69\n",
            "I lost 100 rupees.\n",
            "Current balance: 992900\n",
            "Winning horse: 93\n",
            "My bet: 33\n",
            "I lost 100 rupees.\n",
            "Current balance: 992800\n",
            "Winning horse: 34\n",
            "My bet: 34\n",
            "Hurray! You won 800 rupees.\n",
            "Current balance: 993600\n",
            "Winning horse: 58\n",
            "My bet: 35\n",
            "I lost 100 rupees.\n",
            "Current balance: 993500\n",
            "Winning horse: 43\n",
            "My bet: 44\n",
            "I lost 100 rupees.\n",
            "Current balance: 993400\n",
            "Winning horse: 73\n",
            "My bet: 45\n",
            "I lost 100 rupees.\n",
            "Current balance: 993300\n",
            "Winning horse: 90\n",
            "My bet: 96\n",
            "I lost 100 rupees.\n",
            "Current balance: 993200\n",
            "Winning horse: 93\n",
            "My bet: 41\n",
            "I lost 100 rupees.\n",
            "Current balance: 993100\n",
            "Winning horse: 41\n",
            "My bet: 39\n",
            "I lost 100 rupees.\n",
            "Current balance: 993000\n",
            "Winning horse: 82\n",
            "My bet: 70\n",
            "I lost 100 rupees.\n",
            "Current balance: 992900\n",
            "Winning horse: 8\n",
            "My bet: 48\n",
            "I lost 100 rupees.\n",
            "Current balance: 992800\n",
            "Winning horse: 15\n",
            "My bet: 71\n",
            "I lost 100 rupees.\n",
            "Current balance: 992700\n",
            "Winning horse: 31\n",
            "My bet: 64\n",
            "I lost 100 rupees.\n",
            "Current balance: 992600\n",
            "Winning horse: 80\n",
            "My bet: 63\n",
            "I lost 100 rupees.\n",
            "Current balance: 992500\n",
            "Winning horse: 80\n",
            "My bet: 77\n",
            "I lost 100 rupees.\n",
            "Current balance: 992400\n",
            "Winning horse: 100\n",
            "My bet: 90\n",
            "I lost 100 rupees.\n",
            "Current balance: 992300\n",
            "Winning horse: 25\n",
            "My bet: 98\n",
            "I lost 100 rupees.\n",
            "Current balance: 992200\n",
            "Winning horse: 12\n",
            "My bet: 55\n",
            "I lost 100 rupees.\n",
            "Current balance: 992100\n",
            "Winning horse: 80\n",
            "My bet: 17\n",
            "I lost 100 rupees.\n",
            "Current balance: 992000\n",
            "Winning horse: 65\n",
            "My bet: 35\n",
            "I lost 100 rupees.\n",
            "Current balance: 991900\n",
            "Winning horse: 21\n",
            "My bet: 85\n",
            "I lost 100 rupees.\n",
            "Current balance: 991800\n",
            "Winning horse: 11\n",
            "My bet: 74\n",
            "I lost 100 rupees.\n",
            "Current balance: 991700\n",
            "Winning horse: 89\n",
            "My bet: 10\n",
            "I lost 100 rupees.\n",
            "Current balance: 991600\n",
            "Winning horse: 80\n",
            "My bet: 88\n",
            "I lost 100 rupees.\n",
            "Current balance: 991500\n",
            "Winning horse: 53\n",
            "My bet: 62\n",
            "I lost 100 rupees.\n",
            "Current balance: 991400\n",
            "Winning horse: 61\n",
            "My bet: 93\n",
            "I lost 100 rupees.\n",
            "Current balance: 991300\n",
            "Winning horse: 93\n",
            "My bet: 51\n",
            "I lost 100 rupees.\n",
            "Current balance: 991200\n",
            "Winning horse: 45\n",
            "My bet: 93\n",
            "I lost 100 rupees.\n",
            "Current balance: 991100\n",
            "Winning horse: 67\n",
            "My bet: 80\n",
            "I lost 100 rupees.\n",
            "Current balance: 991000\n",
            "Winning horse: 77\n",
            "My bet: 30\n",
            "I lost 100 rupees.\n",
            "Current balance: 990900\n"
          ]
        }
      ]
    },
    {
      "cell_type": "code",
      "source": [
        "my_dict = {'a':1,'b':2}\n",
        "my_dict['c'] = 3\n",
        "print(my_dict)"
      ],
      "metadata": {
        "id": "TAT4H1kzKVvH",
        "colab": {
          "base_uri": "https://localhost:8080/"
        },
        "outputId": "480bb07e-219a-45e6-ea06-014163e8672a"
      },
      "execution_count": null,
      "outputs": [
        {
          "output_type": "stream",
          "name": "stdout",
          "text": [
            "{'a': 1, 'b': 2, 'c': 3}\n"
          ]
        }
      ]
    },
    {
      "cell_type": "code",
      "source": [
        "# prompt: please generate a non function code to populate a list of 10000 integers, where each integer is drawn at random from the range of 1 to 10 both included\n",
        "\n",
        "import random\n",
        "\n",
        "nums = []\n",
        "for i in range(10000):\n",
        "  nums.append(random.randint(0,10))\n",
        "print(len(nums))\n",
        "print(nums)"
      ],
      "metadata": {
        "colab": {
          "base_uri": "https://localhost:8080/"
        },
        "id": "YhR5uI37OyE5",
        "outputId": "6731a0e4-539a-45e8-cb48-79e43b68a5e7"
      },
      "execution_count": null,
      "outputs": [
        {
          "output_type": "stream",
          "name": "stdout",
          "text": [
            "10000\n",
            "[1, 0, 7, 1, 1, 4, 1, 9, 0, 8, 4, 5, 5, 2, 2, 3, 9, 6, 7, 7, 2, 4, 0, 10, 2, 0, 0, 5, 0, 5, 9, 8, 7, 0, 0, 9, 1, 8, 4, 9, 0, 2, 3, 9, 2, 2, 8, 7, 8, 8, 0, 0, 2, 9, 10, 5, 9, 7, 7, 2, 5, 3, 8, 5, 0, 2, 9, 3, 0, 2, 8, 1, 0, 9, 10, 0, 0, 5, 4, 8, 7, 4, 3, 7, 6, 10, 8, 8, 0, 2, 2, 8, 9, 4, 1, 8, 5, 8, 9, 9, 5, 4, 1, 7, 5, 9, 8, 5, 8, 9, 8, 2, 6, 9, 9, 4, 4, 6, 5, 0, 7, 8, 9, 2, 6, 8, 2, 7, 3, 1, 9, 8, 8, 2, 5, 4, 8, 9, 9, 5, 0, 3, 3, 3, 2, 8, 1, 5, 5, 7, 0, 5, 9, 10, 1, 10, 8, 9, 1, 3, 9, 5, 7, 3, 7, 5, 4, 2, 1, 8, 4, 9, 2, 4, 7, 4, 10, 6, 1, 9, 1, 8, 3, 6, 6, 3, 10, 8, 5, 5, 7, 4, 3, 5, 0, 2, 10, 2, 4, 2, 3, 10, 4, 4, 5, 9, 10, 3, 9, 5, 6, 1, 9, 2, 9, 4, 10, 0, 4, 3, 9, 2, 5, 10, 10, 5, 2, 0, 6, 2, 5, 2, 8, 6, 4, 3, 9, 5, 8, 3, 4, 3, 2, 6, 7, 4, 8, 1, 5, 6, 5, 4, 0, 5, 9, 1, 9, 6, 9, 2, 1, 7, 5, 0, 5, 6, 3, 9, 1, 8, 10, 3, 8, 8, 3, 9, 4, 4, 4, 2, 5, 8, 5, 2, 9, 0, 0, 2, 7, 7, 6, 0, 1, 6, 5, 6, 6, 4, 2, 10, 5, 0, 2, 9, 9, 8, 10, 4, 4, 0, 4, 7, 0, 10, 4, 10, 8, 4, 7, 7, 4, 10, 7, 3, 1, 1, 4, 10, 1, 8, 9, 8, 7, 2, 2, 7, 8, 2, 10, 0, 5, 10, 8, 2, 1, 8, 5, 0, 5, 7, 8, 7, 1, 10, 7, 9, 10, 0, 1, 3, 3, 1, 7, 3, 7, 1, 6, 10, 2, 3, 4, 3, 3, 10, 6, 0, 1, 4, 9, 10, 5, 2, 0, 1, 1, 8, 7, 8, 4, 2, 10, 4, 2, 3, 4, 6, 0, 4, 10, 4, 1, 6, 8, 0, 4, 6, 8, 10, 3, 10, 6, 4, 0, 4, 8, 9, 1, 5, 7, 2, 3, 1, 6, 5, 9, 1, 3, 7, 4, 5, 1, 9, 8, 6, 3, 1, 0, 10, 1, 1, 5, 8, 6, 5, 4, 4, 8, 5, 7, 4, 7, 4, 3, 1, 9, 6, 3, 6, 0, 5, 3, 7, 1, 0, 2, 4, 6, 4, 2, 2, 5, 5, 8, 3, 6, 9, 5, 0, 9, 4, 9, 1, 3, 8, 7, 9, 3, 9, 6, 8, 8, 4, 3, 4, 7, 9, 10, 0, 0, 5, 0, 6, 0, 1, 3, 10, 2, 3, 1, 8, 9, 8, 10, 1, 8, 8, 4, 8, 7, 0, 2, 9, 8, 5, 6, 6, 2, 7, 5, 0, 1, 6, 4, 7, 6, 7, 8, 8, 0, 10, 3, 8, 2, 4, 7, 6, 3, 6, 8, 5, 9, 0, 4, 4, 3, 7, 2, 10, 0, 1, 4, 2, 1, 9, 0, 9, 2, 6, 10, 7, 8, 1, 3, 0, 8, 2, 1, 4, 6, 2, 8, 7, 5, 9, 4, 8, 4, 8, 6, 0, 4, 10, 3, 9, 5, 1, 4, 6, 8, 2, 5, 2, 8, 9, 3, 2, 7, 1, 3, 1, 10, 5, 9, 10, 6, 3, 7, 2, 4, 2, 3, 9, 1, 4, 7, 1, 1, 5, 2, 1, 0, 5, 7, 5, 1, 9, 8, 3, 6, 10, 3, 10, 2, 6, 7, 7, 5, 8, 4, 3, 3, 5, 0, 8, 6, 8, 9, 3, 7, 9, 5, 8, 10, 3, 9, 5, 1, 1, 1, 8, 1, 5, 8, 7, 8, 10, 2, 10, 5, 4, 1, 0, 10, 1, 0, 1, 8, 6, 1, 2, 4, 3, 5, 9, 2, 7, 6, 10, 9, 5, 7, 3, 4, 0, 2, 8, 5, 4, 3, 9, 0, 5, 5, 4, 9, 4, 8, 2, 1, 6, 10, 1, 1, 7, 10, 0, 0, 4, 6, 8, 8, 5, 8, 9, 9, 2, 7, 8, 2, 6, 6, 4, 4, 9, 9, 8, 5, 5, 1, 3, 0, 5, 3, 9, 0, 10, 10, 7, 1, 0, 8, 0, 2, 10, 2, 7, 2, 2, 7, 5, 3, 1, 2, 10, 5, 10, 5, 1, 5, 7, 5, 1, 2, 4, 4, 9, 1, 3, 3, 9, 4, 8, 6, 8, 10, 8, 5, 6, 6, 4, 1, 7, 5, 4, 0, 4, 5, 10, 5, 3, 2, 2, 5, 1, 2, 8, 0, 0, 2, 8, 9, 4, 2, 9, 0, 10, 6, 0, 4, 6, 10, 8, 6, 6, 7, 4, 6, 7, 5, 8, 0, 5, 6, 5, 8, 1, 4, 0, 6, 9, 0, 10, 2, 10, 1, 5, 1, 5, 4, 2, 5, 3, 10, 5, 6, 2, 4, 2, 8, 10, 2, 8, 9, 5, 10, 1, 1, 10, 2, 8, 3, 10, 1, 10, 7, 6, 1, 9, 5, 5, 0, 9, 0, 9, 5, 10, 2, 4, 10, 4, 8, 6, 8, 10, 10, 0, 1, 1, 10, 3, 2, 2, 8, 1, 0, 7, 3, 3, 7, 8, 10, 1, 10, 5, 9, 5, 7, 7, 5, 6, 2, 0, 5, 1, 10, 0, 9, 5, 3, 0, 10, 1, 1, 5, 6, 0, 2, 1, 8, 10, 1, 0, 3, 4, 8, 2, 2, 2, 9, 0, 7, 3, 6, 7, 3, 9, 5, 7, 9, 1, 6, 0, 0, 7, 9, 4, 9, 10, 9, 8, 7, 3, 7, 0, 7, 10, 2, 4, 6, 2, 9, 6, 6, 0, 10, 6, 5, 5, 5, 7, 5, 8, 4, 8, 2, 5, 6, 9, 3, 4, 2, 10, 4, 0, 1, 9, 6, 2, 8, 8, 9, 2, 7, 1, 0, 4, 10, 10, 4, 2, 8, 4, 5, 5, 2, 7, 10, 7, 3, 6, 0, 4, 10, 8, 8, 5, 0, 10, 7, 10, 3, 4, 4, 0, 10, 8, 0, 1, 9, 7, 4, 10, 10, 2, 8, 4, 8, 5, 10, 9, 0, 5, 4, 6, 10, 7, 4, 4, 10, 7, 10, 5, 2, 4, 1, 1, 8, 1, 7, 10, 10, 5, 0, 1, 8, 8, 9, 8, 6, 9, 6, 7, 6, 10, 7, 8, 4, 9, 2, 3, 8, 4, 6, 3, 2, 5, 4, 7, 1, 2, 6, 6, 0, 2, 3, 5, 7, 4, 1, 0, 5, 6, 10, 7, 7, 2, 2, 1, 3, 3, 4, 10, 7, 9, 6, 7, 4, 0, 2, 10, 6, 2, 0, 3, 8, 5, 1, 2, 3, 4, 6, 9, 7, 1, 5, 7, 2, 4, 1, 3, 6, 9, 6, 6, 9, 10, 5, 10, 6, 10, 9, 5, 10, 9, 6, 2, 3, 3, 8, 4, 0, 4, 7, 8, 7, 6, 3, 5, 4, 10, 9, 3, 1, 3, 0, 1, 3, 10, 8, 2, 8, 1, 0, 10, 8, 2, 10, 0, 3, 10, 8, 0, 6, 7, 9, 10, 8, 2, 2, 8, 6, 0, 0, 0, 7, 6, 6, 1, 9, 7, 5, 10, 7, 5, 1, 0, 7, 8, 10, 10, 2, 6, 2, 4, 1, 5, 7, 2, 4, 5, 3, 8, 8, 7, 3, 9, 2, 9, 6, 0, 1, 3, 5, 9, 4, 6, 4, 0, 7, 10, 8, 0, 3, 1, 2, 4, 3, 7, 4, 10, 1, 3, 0, 10, 10, 0, 6, 3, 3, 7, 0, 7, 5, 8, 3, 1, 0, 6, 3, 9, 6, 1, 1, 7, 4, 2, 3, 2, 2, 8, 10, 10, 2, 0, 6, 3, 0, 10, 2, 5, 2, 0, 6, 5, 4, 7, 10, 5, 10, 9, 7, 1, 7, 4, 0, 1, 1, 6, 8, 5, 7, 7, 10, 10, 7, 7, 5, 2, 1, 4, 7, 2, 6, 9, 8, 3, 3, 0, 10, 1, 3, 7, 4, 6, 3, 8, 8, 2, 8, 10, 5, 5, 10, 3, 10, 5, 4, 1, 10, 10, 1, 1, 2, 1, 10, 0, 5, 10, 4, 9, 3, 7, 2, 2, 2, 7, 9, 4, 8, 6, 0, 8, 9, 1, 1, 4, 2, 8, 4, 2, 2, 3, 1, 10, 3, 9, 10, 10, 1, 10, 0, 6, 5, 4, 3, 10, 9, 1, 7, 7, 3, 2, 8, 8, 3, 9, 9, 1, 1, 7, 5, 7, 8, 0, 7, 5, 8, 9, 2, 1, 9, 6, 5, 0, 7, 1, 3, 10, 9, 7, 2, 3, 6, 4, 7, 2, 1, 5, 2, 9, 3, 6, 4, 4, 2, 0, 6, 0, 1, 8, 6, 1, 9, 1, 10, 7, 0, 4, 6, 3, 4, 5, 3, 6, 8, 10, 8, 6, 7, 0, 3, 0, 0, 6, 4, 0, 5, 6, 0, 6, 5, 0, 4, 2, 6, 10, 4, 1, 4, 1, 8, 4, 0, 0, 1, 10, 1, 9, 5, 9, 8, 3, 8, 6, 7, 4, 0, 10, 7, 5, 7, 0, 8, 9, 6, 10, 8, 3, 1, 5, 7, 1, 0, 0, 0, 3, 5, 5, 1, 3, 3, 1, 10, 3, 9, 10, 4, 1, 5, 6, 9, 4, 10, 8, 6, 10, 7, 5, 6, 2, 0, 5, 9, 0, 7, 4, 8, 3, 7, 0, 10, 8, 0, 10, 3, 3, 1, 1, 1, 2, 7, 5, 1, 0, 6, 8, 6, 0, 3, 1, 8, 7, 8, 3, 7, 8, 3, 3, 6, 8, 6, 6, 6, 4, 9, 3, 7, 8, 3, 5, 3, 0, 9, 7, 8, 6, 8, 3, 4, 2, 3, 2, 1, 5, 4, 7, 9, 3, 1, 1, 2, 6, 8, 2, 4, 9, 1, 7, 1, 10, 9, 0, 1, 6, 5, 3, 8, 0, 1, 8, 1, 3, 3, 1, 6, 1, 7, 7, 7, 2, 8, 10, 3, 6, 6, 2, 4, 4, 8, 1, 4, 10, 8, 0, 6, 8, 7, 6, 5, 0, 6, 0, 7, 0, 2, 5, 8, 4, 0, 10, 10, 1, 2, 10, 10, 0, 3, 2, 1, 8, 1, 6, 8, 0, 4, 3, 0, 8, 2, 4, 10, 2, 9, 6, 5, 7, 5, 1, 1, 4, 8, 10, 9, 7, 8, 9, 0, 0, 8, 4, 3, 0, 4, 3, 3, 0, 8, 6, 1, 4, 5, 8, 8, 2, 7, 5, 0, 4, 1, 5, 0, 8, 5, 2, 2, 4, 3, 5, 10, 2, 6, 9, 2, 0, 7, 9, 8, 2, 2, 3, 0, 8, 4, 4, 1, 7, 3, 8, 6, 6, 6, 1, 6, 10, 2, 6, 9, 1, 2, 1, 9, 9, 6, 1, 10, 3, 5, 4, 6, 1, 4, 10, 3, 3, 0, 7, 7, 7, 4, 4, 6, 6, 10, 0, 2, 4, 5, 5, 9, 1, 2, 9, 4, 1, 8, 9, 7, 0, 5, 3, 5, 6, 3, 2, 7, 10, 2, 2, 2, 9, 8, 3, 8, 9, 1, 6, 2, 5, 10, 8, 10, 10, 2, 3, 7, 9, 8, 5, 5, 2, 5, 5, 9, 7, 1, 5, 6, 8, 1, 10, 0, 0, 7, 1, 10, 5, 9, 1, 8, 1, 9, 4, 10, 1, 6, 8, 0, 2, 5, 6, 9, 10, 3, 4, 7, 6, 2, 1, 9, 4, 6, 8, 9, 9, 9, 10, 10, 10, 4, 3, 6, 8, 2, 3, 7, 2, 10, 6, 5, 2, 1, 0, 7, 4, 1, 5, 8, 1, 4, 8, 10, 4, 3, 8, 0, 10, 5, 7, 7, 1, 7, 10, 9, 2, 5, 4, 4, 9, 5, 8, 9, 10, 7, 10, 8, 7, 0, 6, 7, 7, 0, 4, 0, 0, 3, 10, 3, 2, 5, 8, 10, 5, 9, 4, 10, 1, 9, 10, 1, 2, 3, 10, 8, 5, 1, 0, 0, 8, 6, 5, 6, 4, 1, 4, 5, 3, 10, 8, 8, 8, 4, 1, 3, 7, 6, 0, 6, 8, 5, 5, 7, 3, 2, 10, 0, 0, 2, 8, 8, 6, 1, 0, 4, 1, 2, 9, 4, 5, 10, 1, 4, 10, 1, 10, 6, 10, 2, 0, 0, 9, 0, 5, 5, 7, 10, 9, 9, 0, 3, 2, 2, 4, 5, 3, 10, 1, 7, 3, 0, 3, 10, 6, 8, 7, 3, 0, 2, 3, 4, 3, 6, 1, 10, 3, 6, 1, 1, 1, 8, 7, 9, 9, 3, 9, 5, 3, 10, 9, 1, 0, 1, 2, 10, 6, 7, 4, 0, 8, 7, 2, 8, 10, 4, 6, 1, 3, 5, 3, 6, 8, 10, 9, 1, 8, 9, 9, 1, 8, 1, 5, 9, 4, 7, 1, 10, 10, 9, 7, 6, 2, 0, 1, 7, 9, 1, 5, 9, 5, 10, 2, 3, 7, 2, 3, 0, 6, 1, 9, 8, 8, 1, 0, 5, 9, 1, 0, 8, 4, 6, 4, 10, 10, 4, 1, 5, 4, 10, 5, 1, 6, 3, 2, 10, 2, 1, 4, 0, 1, 9, 3, 9, 2, 8, 0, 8, 1, 9, 10, 5, 0, 10, 1, 8, 1, 3, 9, 3, 10, 4, 3, 2, 4, 5, 9, 2, 10, 9, 7, 8, 8, 1, 4, 8, 1, 9, 6, 6, 4, 10, 8, 1, 5, 0, 6, 5, 8, 7, 0, 3, 10, 0, 1, 7, 2, 4, 6, 1, 5, 6, 2, 0, 5, 0, 5, 10, 4, 1, 7, 10, 9, 10, 3, 3, 0, 4, 2, 4, 9, 0, 2, 9, 2, 1, 7, 1, 9, 4, 3, 4, 3, 6, 0, 8, 6, 0, 1, 3, 3, 4, 6, 5, 7, 10, 0, 4, 4, 6, 5, 8, 3, 4, 8, 6, 10, 9, 6, 8, 1, 7, 3, 8, 6, 1, 8, 0, 9, 2, 4, 2, 4, 1, 8, 4, 2, 1, 3, 8, 2, 7, 1, 2, 2, 1, 10, 10, 8, 5, 5, 10, 1, 9, 9, 1, 0, 4, 5, 3, 2, 5, 9, 10, 2, 5, 2, 3, 2, 0, 6, 0, 0, 8, 1, 6, 0, 7, 9, 1, 0, 3, 8, 8, 7, 1, 1, 10, 5, 10, 7, 4, 10, 10, 10, 5, 6, 5, 3, 0, 10, 1, 1, 2, 5, 9, 2, 6, 9, 3, 4, 3, 10, 6, 1, 10, 6, 8, 5, 6, 2, 2, 9, 4, 0, 9, 7, 3, 7, 2, 1, 0, 5, 3, 6, 0, 2, 4, 1, 4, 7, 2, 9, 2, 3, 3, 6, 7, 3, 1, 0, 4, 0, 2, 7, 9, 1, 10, 4, 7, 8, 3, 5, 9, 3, 3, 5, 7, 5, 4, 4, 1, 3, 0, 9, 6, 0, 3, 5, 5, 8, 3, 5, 2, 4, 4, 3, 8, 1, 8, 6, 10, 2, 5, 10, 9, 10, 3, 10, 7, 7, 2, 8, 4, 6, 6, 2, 3, 6, 4, 4, 9, 6, 2, 9, 4, 6, 9, 2, 8, 2, 10, 6, 3, 3, 7, 8, 2, 10, 9, 6, 9, 0, 7, 0, 2, 5, 3, 8, 9, 4, 8, 8, 6, 2, 9, 8, 0, 7, 7, 10, 2, 10, 4, 3, 10, 5, 8, 8, 7, 1, 5, 4, 1, 8, 7, 6, 4, 2, 4, 8, 9, 0, 0, 9, 5, 1, 8, 3, 9, 0, 0, 0, 7, 7, 7, 7, 10, 7, 3, 9, 0, 0, 7, 5, 4, 6, 1, 9, 2, 4, 6, 0, 5, 6, 5, 4, 4, 7, 3, 7, 10, 0, 4, 3, 3, 5, 5, 4, 6, 0, 5, 4, 10, 3, 6, 5, 7, 7, 4, 1, 3, 9, 10, 9, 5, 9, 5, 0, 1, 6, 10, 2, 0, 6, 6, 8, 9, 1, 8, 3, 6, 10, 8, 2, 10, 10, 8, 8, 10, 4, 2, 10, 0, 8, 8, 9, 6, 1, 3, 0, 7, 8, 8, 2, 1, 0, 5, 1, 7, 10, 9, 8, 8, 6, 6, 10, 8, 9, 6, 2, 2, 6, 2, 3, 3, 7, 2, 9, 3, 3, 9, 6, 8, 4, 9, 2, 1, 1, 10, 1, 6, 4, 9, 1, 7, 5, 1, 10, 7, 5, 9, 9, 4, 0, 8, 7, 7, 10, 7, 0, 3, 1, 9, 5, 7, 1, 2, 3, 1, 6, 10, 10, 0, 0, 2, 1, 3, 3, 2, 5, 2, 4, 6, 8, 6, 10, 1, 7, 3, 9, 6, 3, 7, 8, 10, 0, 9, 3, 9, 2, 2, 4, 10, 4, 4, 2, 2, 2, 0, 5, 6, 4, 10, 10, 7, 5, 7, 5, 1, 3, 10, 4, 5, 2, 2, 10, 4, 3, 9, 9, 1, 6, 10, 6, 4, 0, 1, 5, 2, 8, 1, 8, 8, 6, 10, 6, 6, 9, 10, 6, 1, 6, 8, 3, 6, 9, 10, 6, 8, 1, 5, 4, 7, 10, 7, 7, 8, 6, 5, 5, 10, 1, 1, 6, 1, 1, 3, 1, 6, 4, 6, 5, 1, 3, 4, 5, 5, 6, 6, 1, 5, 2, 5, 4, 6, 4, 0, 7, 9, 6, 7, 3, 10, 10, 0, 9, 9, 6, 0, 10, 6, 9, 8, 6, 0, 7, 4, 4, 7, 3, 4, 4, 4, 9, 1, 5, 10, 8, 2, 9, 6, 1, 4, 5, 2, 6, 10, 10, 3, 4, 1, 8, 4, 0, 0, 0, 9, 10, 2, 0, 5, 1, 5, 8, 8, 2, 8, 10, 7, 1, 9, 0, 3, 8, 5, 0, 4, 0, 4, 9, 5, 1, 7, 9, 7, 2, 4, 6, 5, 5, 9, 6, 2, 7, 6, 7, 5, 1, 8, 4, 6, 10, 10, 6, 5, 9, 10, 7, 9, 4, 6, 7, 3, 4, 2, 2, 6, 5, 2, 8, 9, 10, 10, 2, 1, 0, 6, 7, 10, 6, 8, 4, 10, 6, 9, 7, 1, 3, 10, 5, 7, 3, 0, 7, 6, 4, 3, 10, 10, 3, 2, 4, 8, 6, 5, 1, 6, 9, 9, 3, 0, 0, 6, 10, 0, 4, 0, 9, 7, 1, 8, 6, 0, 0, 10, 9, 3, 9, 8, 7, 3, 3, 2, 6, 6, 3, 7, 3, 10, 5, 2, 10, 10, 9, 4, 0, 8, 5, 2, 6, 8, 9, 9, 7, 8, 2, 4, 1, 10, 10, 5, 0, 8, 0, 2, 1, 5, 7, 7, 3, 7, 7, 5, 0, 3, 4, 3, 0, 6, 8, 8, 5, 7, 2, 9, 9, 6, 8, 5, 0, 3, 0, 0, 10, 5, 2, 2, 10, 8, 6, 8, 3, 6, 0, 8, 0, 0, 10, 1, 7, 9, 9, 5, 5, 2, 5, 9, 5, 0, 2, 2, 1, 9, 6, 9, 7, 7, 8, 3, 1, 5, 0, 2, 7, 10, 2, 10, 6, 6, 7, 1, 1, 0, 10, 6, 6, 4, 7, 7, 7, 2, 3, 6, 6, 9, 6, 5, 7, 8, 8, 6, 9, 10, 1, 3, 8, 7, 9, 10, 7, 5, 7, 1, 2, 5, 10, 7, 6, 0, 7, 3, 8, 0, 0, 10, 3, 0, 1, 8, 4, 0, 7, 8, 9, 6, 9, 1, 1, 10, 7, 2, 6, 0, 7, 1, 5, 10, 4, 5, 10, 2, 5, 8, 8, 8, 10, 6, 0, 4, 6, 7, 6, 7, 4, 8, 9, 6, 0, 2, 3, 8, 7, 7, 4, 7, 7, 10, 10, 7, 10, 0, 5, 1, 0, 1, 0, 4, 0, 0, 6, 8, 5, 1, 7, 9, 8, 2, 5, 0, 10, 8, 0, 5, 5, 10, 10, 8, 8, 8, 8, 9, 10, 6, 4, 0, 2, 5, 0, 9, 3, 2, 3, 7, 5, 2, 9, 9, 0, 4, 0, 1, 1, 2, 3, 2, 9, 1, 10, 8, 5, 6, 9, 4, 0, 8, 3, 10, 0, 2, 2, 7, 3, 8, 8, 0, 2, 7, 6, 2, 9, 10, 9, 7, 8, 6, 5, 6, 5, 5, 10, 9, 3, 7, 0, 4, 2, 0, 0, 9, 2, 4, 8, 3, 1, 4, 6, 3, 1, 6, 7, 1, 9, 9, 5, 2, 1, 8, 6, 1, 6, 1, 1, 2, 9, 9, 4, 5, 0, 1, 0, 2, 4, 5, 9, 1, 6, 2, 0, 9, 8, 6, 3, 5, 0, 6, 3, 4, 7, 2, 5, 6, 8, 8, 10, 7, 4, 2, 7, 0, 6, 4, 8, 5, 5, 10, 2, 0, 2, 9, 5, 6, 8, 9, 6, 1, 4, 7, 8, 4, 0, 2, 7, 4, 8, 4, 10, 2, 4, 4, 1, 2, 4, 5, 8, 5, 1, 5, 9, 3, 6, 2, 1, 8, 0, 5, 8, 8, 6, 8, 4, 9, 8, 6, 2, 9, 0, 8, 7, 10, 7, 3, 2, 0, 9, 6, 3, 1, 1, 6, 7, 0, 1, 6, 3, 7, 2, 3, 2, 8, 8, 3, 10, 5, 0, 4, 7, 1, 10, 10, 5, 10, 10, 3, 0, 8, 6, 10, 0, 3, 0, 0, 2, 7, 9, 5, 10, 6, 9, 3, 0, 8, 6, 4, 3, 1, 10, 5, 4, 4, 9, 5, 6, 5, 9, 6, 10, 1, 8, 9, 3, 8, 8, 4, 9, 4, 9, 7, 7, 5, 7, 10, 0, 2, 7, 7, 6, 6, 1, 2, 0, 0, 7, 3, 9, 10, 2, 1, 0, 10, 3, 2, 6, 10, 8, 6, 5, 8, 7, 9, 4, 3, 5, 1, 7, 2, 0, 7, 8, 7, 4, 7, 6, 7, 9, 2, 9, 4, 9, 10, 5, 1, 7, 2, 0, 0, 6, 1, 10, 6, 9, 5, 6, 2, 8, 8, 7, 8, 10, 6, 8, 2, 3, 3, 1, 5, 1, 0, 4, 3, 2, 6, 2, 5, 10, 0, 7, 3, 5, 2, 6, 4, 5, 5, 6, 1, 10, 3, 6, 6, 2, 5, 9, 8, 1, 6, 4, 7, 6, 1, 3, 1, 3, 5, 10, 10, 7, 8, 10, 6, 4, 6, 7, 1, 1, 7, 3, 8, 0, 4, 4, 2, 10, 4, 4, 3, 8, 9, 5, 4, 1, 3, 2, 5, 6, 5, 9, 3, 5, 10, 0, 10, 9, 7, 7, 6, 8, 10, 6, 3, 9, 4, 10, 2, 7, 9, 6, 8, 4, 8, 5, 3, 7, 8, 6, 5, 5, 10, 3, 4, 7, 2, 4, 10, 0, 2, 2, 5, 6, 10, 7, 9, 5, 6, 6, 4, 7, 5, 8, 5, 4, 7, 10, 10, 5, 7, 4, 1, 5, 2, 4, 1, 0, 6, 7, 2, 9, 8, 6, 5, 8, 5, 9, 5, 9, 10, 2, 9, 7, 4, 0, 4, 1, 2, 2, 5, 4, 0, 7, 5, 9, 5, 6, 8, 3, 0, 4, 2, 2, 6, 6, 7, 5, 4, 5, 1, 4, 10, 8, 10, 4, 6, 1, 2, 10, 6, 2, 3, 9, 10, 10, 3, 4, 2, 2, 7, 4, 1, 7, 2, 5, 1, 6, 2, 4, 1, 9, 7, 3, 8, 1, 9, 4, 0, 10, 4, 2, 9, 7, 5, 2, 5, 9, 0, 8, 7, 6, 4, 4, 9, 3, 1, 5, 5, 1, 6, 6, 7, 6, 6, 7, 0, 10, 5, 9, 4, 10, 4, 9, 8, 10, 8, 2, 1, 4, 3, 2, 7, 8, 3, 9, 8, 8, 8, 6, 5, 7, 7, 5, 4, 7, 1, 2, 10, 3, 1, 7, 10, 6, 4, 9, 1, 2, 9, 0, 10, 10, 0, 1, 7, 3, 7, 5, 3, 9, 0, 3, 3, 5, 0, 5, 1, 3, 0, 9, 1, 3, 10, 6, 0, 4, 8, 3, 10, 3, 2, 5, 0, 9, 2, 5, 8, 1, 0, 1, 7, 9, 2, 4, 3, 3, 5, 6, 2, 6, 4, 7, 2, 0, 0, 1, 3, 6, 1, 4, 4, 7, 10, 7, 9, 1, 1, 4, 5, 8, 7, 7, 1, 4, 10, 9, 8, 7, 10, 0, 1, 9, 8, 10, 9, 6, 4, 5, 9, 6, 5, 2, 4, 2, 10, 8, 0, 9, 1, 7, 8, 0, 2, 9, 8, 9, 10, 0, 9, 0, 7, 6, 2, 1, 9, 3, 7, 5, 7, 8, 5, 6, 5, 4, 6, 8, 4, 5, 4, 4, 3, 5, 9, 8, 3, 3, 9, 7, 6, 4, 0, 0, 3, 8, 10, 10, 0, 2, 5, 7, 9, 9, 7, 0, 5, 4, 3, 0, 7, 7, 2, 0, 10, 3, 7, 4, 9, 3, 10, 3, 10, 8, 1, 1, 6, 0, 3, 6, 7, 7, 8, 9, 3, 8, 9, 2, 4, 3, 0, 3, 8, 4, 10, 8, 1, 1, 1, 10, 7, 7, 6, 9, 3, 4, 7, 9, 1, 8, 9, 1, 2, 7, 3, 9, 4, 7, 5, 5, 4, 0, 8, 1, 1, 1, 8, 4, 4, 1, 9, 3, 0, 10, 10, 4, 8, 5, 6, 0, 9, 10, 3, 3, 8, 10, 6, 3, 10, 2, 1, 0, 10, 7, 9, 5, 3, 1, 8, 9, 5, 7, 6, 2, 4, 9, 5, 6, 2, 6, 6, 10, 1, 10, 2, 8, 5, 9, 7, 9, 4, 0, 6, 7, 0, 7, 7, 7, 6, 5, 8, 0, 10, 2, 10, 4, 6, 6, 9, 2, 0, 1, 6, 6, 7, 6, 2, 2, 10, 2, 7, 10, 5, 3, 4, 4, 9, 4, 10, 2, 0, 0, 6, 0, 1, 8, 2, 0, 2, 5, 2, 7, 7, 9, 8, 3, 2, 6, 2, 9, 2, 7, 8, 9, 7, 4, 9, 9, 7, 3, 3, 6, 8, 8, 8, 9, 7, 6, 0, 1, 6, 2, 9, 7, 1, 5, 7, 2, 0, 9, 10, 5, 7, 1, 5, 6, 10, 5, 7, 2, 6, 1, 5, 4, 0, 1, 9, 8, 5, 3, 1, 1, 8, 10, 0, 8, 5, 3, 1, 8, 1, 8, 10, 5, 0, 2, 7, 1, 9, 2, 0, 5, 9, 6, 5, 3, 2, 7, 6, 0, 2, 8, 7, 0, 10, 5, 2, 0, 6, 9, 7, 8, 8, 8, 8, 5, 1, 0, 5, 7, 10, 5, 5, 8, 5, 6, 5, 3, 2, 9, 1, 0, 1, 5, 1, 6, 3, 8, 10, 9, 8, 2, 4, 2, 1, 5, 3, 1, 2, 7, 0, 8, 4, 7, 8, 7, 6, 6, 4, 9, 9, 5, 6, 10, 5, 1, 6, 3, 3, 2, 8, 7, 4, 5, 3, 6, 10, 4, 4, 6, 3, 4, 8, 2, 2, 10, 10, 6, 1, 1, 6, 6, 5, 5, 4, 0, 8, 2, 10, 7, 6, 3, 2, 6, 4, 9, 6, 10, 3, 2, 9, 4, 8, 0, 8, 7, 8, 9, 7, 7, 2, 3, 2, 2, 9, 1, 3, 10, 1, 1, 9, 2, 1, 8, 10, 7, 7, 7, 5, 4, 8, 5, 9, 8, 3, 5, 7, 4, 10, 0, 2, 10, 10, 7, 2, 7, 1, 0, 9, 2, 5, 1, 2, 4, 0, 5, 9, 0, 0, 5, 7, 9, 0, 5, 5, 6, 0, 6, 10, 9, 5, 2, 4, 10, 0, 3, 4, 6, 8, 5, 5, 5, 1, 1, 10, 9, 2, 4, 5, 8, 6, 0, 9, 4, 6, 5, 4, 2, 2, 8, 4, 8, 2, 6, 6, 0, 3, 3, 0, 2, 6, 9, 2, 7, 5, 1, 4, 1, 3, 8, 8, 6, 6, 0, 5, 4, 6, 5, 10, 2, 5, 1, 9, 1, 8, 8, 6, 6, 4, 3, 6, 6, 2, 3, 0, 0, 4, 1, 8, 1, 8, 5, 0, 0, 10, 6, 7, 6, 9, 9, 8, 4, 5, 1, 3, 1, 6, 8, 2, 4, 7, 9, 2, 3, 0, 10, 9, 9, 4, 10, 7, 7, 10, 8, 0, 3, 10, 1, 9, 10, 9, 10, 7, 4, 9, 4, 7, 5, 9, 8, 6, 7, 1, 4, 1, 3, 4, 1, 9, 1, 0, 8, 5, 9, 8, 2, 5, 8, 1, 0, 2, 3, 5, 3, 6, 7, 8, 6, 0, 2, 1, 0, 3, 0, 0, 6, 1, 6, 6, 6, 6, 3, 6, 8, 1, 5, 0, 4, 4, 7, 5, 4, 5, 7, 2, 6, 7, 8, 1, 3, 4, 7, 2, 10, 10, 4, 0, 0, 9, 3, 5, 5, 5, 5, 7, 6, 10, 4, 3, 8, 8, 2, 6, 2, 6, 3, 1, 4, 8, 5, 7, 3, 0, 10, 3, 3, 5, 3, 0, 7, 7, 8, 3, 1, 0, 0, 6, 5, 9, 10, 8, 7, 10, 6, 5, 1, 5, 7, 2, 2, 5, 2, 0, 2, 5, 10, 10, 8, 9, 4, 5, 7, 3, 10, 10, 6, 4, 8, 8, 0, 7, 5, 2, 0, 8, 7, 9, 4, 0, 2, 7, 7, 1, 10, 0, 7, 2, 5, 9, 8, 5, 3, 3, 3, 0, 8, 8, 5, 5, 6, 5, 0, 8, 2, 7, 1, 9, 5, 2, 6, 0, 9, 7, 5, 7, 4, 9, 2, 8, 0, 0, 8, 5, 5, 6, 6, 9, 5, 3, 10, 5, 1, 3, 3, 9, 6, 4, 9, 5, 1, 6, 6, 0, 1, 4, 8, 1, 4, 0, 8, 8, 6, 2, 2, 3, 7, 6, 6, 1, 5, 9, 4, 4, 10, 8, 10, 7, 5, 5, 4, 3, 0, 6, 5, 0, 8, 0, 2, 5, 10, 2, 2, 0, 1, 8, 9, 9, 4, 5, 4, 10, 7, 9, 9, 4, 6, 5, 8, 7, 10, 8, 4, 9, 10, 9, 1, 6, 4, 4, 4, 0, 10, 6, 7, 10, 9, 10, 5, 6, 3, 9, 9, 10, 5, 5, 3, 7, 7, 4, 6, 9, 5, 7, 6, 9, 10, 0, 2, 8, 10, 1, 2, 6, 9, 8, 3, 1, 3, 9, 5, 8, 3, 5, 9, 2, 8, 7, 10, 9, 10, 0, 1, 9, 0, 6, 0, 9, 6, 2, 4, 7, 8, 5, 7, 4, 2, 9, 7, 5, 3, 2, 6, 8, 2, 9, 8, 10, 8, 3, 9, 2, 10, 2, 6, 9, 6, 9, 7, 0, 7, 2, 9, 0, 7, 5, 0, 6, 5, 3, 8, 8, 5, 9, 9, 10, 4, 7, 4, 8, 8, 10, 3, 2, 6, 10, 3, 4, 5, 0, 10, 3, 7, 3, 6, 7, 2, 3, 10, 9, 4, 9, 2, 4, 9, 4, 10, 9, 1, 10, 4, 10, 2, 7, 8, 9, 10, 2, 6, 0, 3, 9, 9, 8, 9, 6, 6, 3, 8, 5, 3, 4, 3, 7, 8, 5, 7, 8, 2, 2, 1, 9, 2, 5, 5, 1, 2, 10, 9, 1, 1, 0, 8, 6, 5, 7, 6, 6, 5, 0, 8, 6, 6, 8, 3, 5, 10, 2, 10, 5, 2, 0, 4, 5, 1, 5, 3, 6, 0, 6, 2, 1, 7, 6, 8, 5, 2, 7, 5, 9, 9, 7, 0, 0, 5, 9, 6, 2, 2, 3, 5, 3, 9, 3, 6, 7, 7, 10, 10, 10, 1, 2, 10, 1, 7, 8, 8, 5, 8, 9, 7, 4, 8, 8, 3, 5, 8, 7, 10, 8, 2, 4, 2, 8, 7, 9, 10, 7, 10, 2, 3, 0, 8, 9, 3, 4, 3, 6, 8, 2, 1, 8, 5, 8, 5, 3, 0, 6, 0, 4, 0, 9, 7, 4, 0, 9, 10, 5, 0, 3, 4, 10, 7, 5, 0, 7, 10, 6, 8, 10, 10, 10, 2, 1, 8, 5, 1, 0, 3, 7, 6, 9, 0, 2, 9, 4, 0, 0, 5, 10, 4, 3, 9, 4, 7, 3, 8, 0, 5, 0, 2, 6, 1, 5, 0, 4, 6, 5, 1, 5, 5, 0, 0, 7, 2, 1, 1, 7, 1, 0, 4, 9, 7, 0, 8, 9, 2, 7, 9, 10, 3, 4, 2, 6, 1, 2, 9, 5, 10, 10, 9, 4, 0, 3, 6, 8, 8, 2, 2, 5, 5, 7, 8, 9, 1, 3, 3, 0, 6, 8, 2, 9, 8, 9, 8, 0, 2, 7, 6, 4, 2, 1, 1, 7, 2, 10, 10, 4, 7, 5, 3, 7, 0, 2, 10, 3, 0, 4, 9, 4, 5, 3, 6, 10, 4, 1, 2, 5, 9, 2, 6, 1, 3, 1, 10, 2, 6, 4, 2, 8, 6, 9, 5, 8, 3, 3, 9, 1, 4, 2, 5, 1, 2, 10, 9, 1, 10, 7, 5, 2, 5, 10, 3, 5, 5, 2, 2, 8, 9, 9, 5, 3, 9, 10, 0, 8, 3, 1, 2, 1, 9, 9, 10, 0, 9, 3, 8, 5, 7, 5, 7, 8, 7, 0, 4, 5, 7, 1, 8, 4, 3, 0, 8, 6, 5, 0, 2, 9, 10, 0, 3, 4, 0, 9, 9, 5, 9, 4, 5, 2, 8, 0, 7, 1, 5, 6, 8, 5, 6, 4, 3, 2, 5, 1, 5, 6, 1, 5, 3, 6, 4, 3, 8, 7, 5, 7, 8, 6, 0, 0, 6, 9, 10, 0, 3, 0, 3, 1, 3, 6, 0, 9, 10, 1, 8, 5, 9, 4, 4, 2, 10, 7, 8, 8, 7, 0, 0, 4, 7, 0, 5, 1, 4, 5, 8, 10, 6, 0, 8, 9, 7, 1, 7, 3, 3, 5, 4, 1, 10, 9, 8, 7, 8, 1, 3, 3, 9, 9, 0, 9, 8, 5, 8, 5, 0, 8, 2, 2, 1, 2, 6, 8, 8, 7, 6, 6, 2, 0, 7, 2, 6, 2, 3, 0, 4, 4, 6, 10, 1, 9, 10, 1, 3, 8, 3, 4, 4, 7, 0, 5, 2, 5, 9, 0, 5, 4, 1, 0, 8, 7, 1, 3, 2, 1, 10, 4, 0, 8, 2, 6, 9, 7, 1, 0, 10, 8, 7, 6, 6, 6, 2, 5, 10, 8, 8, 5, 9, 3, 1, 2, 1, 6, 10, 10, 8, 9, 6, 4, 4, 7, 0, 8, 9, 3, 7, 2, 9, 4, 2, 10, 8, 2, 4, 7, 0, 9, 10, 2, 10, 5, 6, 8, 9, 4, 0, 4, 6, 4, 1, 1, 3, 8, 9, 10, 1, 10, 5, 2, 7, 5, 3, 5, 1, 0, 6, 2, 5, 2, 0, 6, 4, 0, 1, 2, 5, 10, 5, 10, 5, 0, 0, 0, 2, 0, 7, 4, 6, 3, 3, 4, 1, 3, 2, 10, 9, 5, 1, 1, 8, 10, 1, 3, 8, 5, 0, 5, 10, 9, 3, 0, 10, 0, 9, 2, 5, 6, 9, 9, 3, 7, 3, 3, 3, 4, 1, 8, 9, 6, 6, 10, 3, 3, 3, 2, 5, 8, 3, 5, 1, 8, 8, 1, 1, 8, 6, 4, 3, 5, 4, 9, 8, 7, 6, 9, 0, 2, 0, 7, 2, 9, 2, 5, 5, 1, 3, 3, 6, 10, 3, 3, 3, 2, 1, 10, 1, 7, 6, 10, 8, 5, 4, 1, 10, 4, 2, 5, 0, 4, 7, 3, 3, 1, 6, 2, 2, 10, 5, 10, 1, 5, 4, 10, 8, 1, 7, 3, 8, 2, 3, 10, 1, 7, 3, 0, 6, 5, 8, 10, 6, 0, 0, 6, 0, 5, 10, 10, 6, 4, 6, 5, 8, 1, 0, 3, 0, 3, 3, 7, 10, 10, 1, 8, 10, 1, 6, 7, 4, 4, 8, 4, 6, 8, 7, 9, 2, 6, 0, 3, 8, 0, 0, 4, 5, 0, 1, 9, 3, 1, 6, 0, 0, 0, 3, 6, 5, 0, 6, 6, 2, 2, 7, 6, 5, 3, 10, 0, 2, 0, 6, 2, 2, 5, 8, 7, 9, 10, 10, 8, 5, 3, 8, 10, 10, 4, 6, 9, 1, 0, 3, 10, 6, 0, 4, 0, 1, 7, 1, 8, 2, 3, 2, 0, 4, 4, 0, 1, 5, 0, 10, 7, 2, 7, 3, 6, 0, 6, 1, 7, 3, 1, 3, 4, 4, 6, 8, 7, 6, 4, 2, 9, 5, 0, 1, 2, 4, 0, 9, 5, 5, 7, 1, 9, 6, 6, 5, 9, 5, 10, 9, 10, 9, 7, 3, 5, 8, 8, 9, 2, 5, 0, 5, 1, 1, 5, 5, 7, 5, 6, 8, 3, 5, 4, 3, 5, 1, 9, 5, 2, 5, 8, 2, 10, 0, 4, 2, 1, 7, 0, 10, 0, 7, 3, 6, 3, 1, 3, 7, 1, 6, 6, 0, 0, 9, 3, 10, 9, 2, 2, 6, 0, 10, 4, 4, 5, 4, 6, 1, 5, 4, 6, 10, 3, 10, 6, 7, 7, 3, 6, 10, 10, 7, 1, 4, 4, 0, 7, 0, 1, 10, 5, 2, 1, 10, 6, 3, 3, 7, 4, 2, 5, 2, 9, 10, 8, 5, 7, 6, 5, 2, 2, 3, 3, 4, 8, 8, 8, 4, 9, 6, 1, 9, 9, 3, 4, 1, 7, 6, 1, 0, 0, 8, 0, 6, 0, 0, 5, 8, 10, 4, 0, 3, 4, 4, 3, 2, 9, 1, 10, 6, 6, 0, 7, 5, 7, 9, 0, 4, 5, 5, 9, 8, 7, 10, 8, 7, 7, 1, 1, 6, 5, 6, 8, 9, 3, 5, 7, 7, 6, 9, 7, 4, 2, 5, 8, 8, 1, 3, 3, 5, 7, 10, 3, 10, 2, 4, 0, 0, 1, 4, 0, 0, 6, 1, 4, 9, 10, 9, 10, 6, 1, 2, 3, 0, 8, 0, 4, 1, 7, 8, 8, 5, 10, 0, 0, 0, 8, 5, 6, 6, 10, 7, 9, 2, 0, 3, 6, 6, 3, 1, 7, 7, 9, 8, 6, 4, 9, 2, 8, 0, 0, 10, 8, 8, 0, 9, 5, 3, 4, 9, 10, 7, 2, 8, 7, 0, 8, 7, 2, 4, 10, 8, 4, 4, 2, 5, 9, 3, 8, 6, 2, 9, 10, 0, 10, 5, 6, 4, 1, 5, 3, 0, 4, 2, 7, 1, 6, 6, 4, 3, 2, 3, 5, 0, 0, 1, 4, 10, 8, 2, 8, 6, 5, 8, 0, 7, 2, 8, 1, 9, 1, 10, 7, 1, 4, 4, 0, 1, 7, 0, 1, 7, 3, 1, 2, 10, 9, 7, 9, 2, 6, 5, 10, 7, 10, 10, 4, 1, 9, 5, 5, 0, 6, 3, 2, 1, 5, 2, 9, 4, 7, 5, 2, 3, 5, 2, 3, 5, 5, 8, 5, 4, 6, 6, 4, 10, 4, 8, 3, 4, 7, 9, 6, 8, 7, 9, 10, 5, 10, 4, 3, 3, 7, 3, 2, 4, 7, 8, 9, 6, 9, 6, 2, 4, 10, 4, 10, 8, 3, 0, 1, 3, 10, 8, 5, 5, 5, 9, 5, 4, 10, 1, 5, 9, 5, 5, 8, 1, 7, 4, 3, 0, 2, 4, 2, 1, 2, 6, 7, 10, 6, 7, 2, 5, 5, 3, 6, 1, 9, 0, 8, 6, 6, 7, 3, 8, 5, 8, 8, 1, 6, 7, 0, 8, 4, 5, 2, 2, 6, 9, 1, 2, 3, 1, 0, 9, 7, 8, 3, 9, 8, 3, 1, 10, 8, 1, 8, 6, 4, 7, 10, 8, 3, 5, 5, 0, 9, 2, 4, 1, 4, 0, 2, 9, 1, 9, 9, 3, 8, 9, 10, 1, 8, 10, 1, 5, 8, 9, 6, 7, 4, 10, 7, 3, 5, 7, 7, 5, 1, 3, 6, 6, 3, 7, 8, 7, 8, 8, 8, 2, 6, 5, 9, 0, 1, 0, 4, 8, 4, 1, 1, 9, 1, 7, 5, 8, 4, 6, 1, 3, 1, 3, 3, 2, 1, 5, 0, 9, 9, 8, 0, 3, 6, 2, 6, 0, 10, 2, 8, 2, 1, 2, 9, 9, 1, 9, 0, 9, 8, 6, 8, 3, 10, 0, 2, 0, 9, 8, 4, 5, 9, 9, 1, 9, 2, 5, 1, 9, 5, 1, 5, 6, 2, 9, 1, 5, 0, 1, 8, 2, 7, 0, 3, 8, 4, 8, 9, 3, 4, 5, 6, 7, 7, 5, 10, 4, 9, 2, 8, 5, 3, 0, 7, 5, 10, 10, 9, 7, 0, 4, 8, 9, 9, 5, 0, 0, 1, 10, 8, 7, 0, 4, 10, 5, 0, 0, 3, 1, 1, 2, 6, 8, 10, 8, 8, 0, 1, 9, 1, 2, 3, 5, 7, 6, 3, 2, 8, 9, 2, 6, 5, 0, 1, 5, 1, 8, 9, 3, 10, 5, 4, 8, 4, 4, 4, 8, 0, 4, 3, 6, 6, 5, 6, 6, 1, 7, 9, 4, 1, 10, 0, 3, 1, 5, 3, 6, 1, 0, 8, 1, 6, 9, 6, 0, 6, 2, 8, 4, 8, 0, 7, 2, 10, 9, 0, 10, 5, 6, 10, 8, 3, 10, 10, 2, 1, 8, 4, 2, 1, 1, 2, 3, 4, 10, 1, 3, 6, 4, 10, 6, 5, 0, 8, 4, 8, 7, 2, 2, 9, 6, 5, 3, 3, 8, 7, 8, 10, 8, 2, 4, 8, 5, 10, 1, 5, 10, 5, 7, 7, 10, 0, 7, 9, 2, 8, 9, 0, 6, 5, 8, 0, 7, 6, 8, 10, 3, 9, 8, 7, 3, 9, 4, 7, 9, 0, 4, 9, 8, 5, 3, 3, 0, 8, 3, 9, 10, 1, 4, 2, 7, 1, 7, 10, 1, 9, 0, 7, 6, 5, 7, 6, 6, 3, 3, 6, 10, 2, 5, 7, 4, 7, 0, 8, 6, 4, 8, 0, 6, 3, 5, 9, 0, 9, 3, 2, 10, 9, 2, 4, 7, 8, 1, 9, 2, 10, 9, 9, 0, 0, 4, 1, 7, 8, 6, 0, 2, 7, 6, 2, 10, 7, 6, 6, 6, 9, 5, 6, 1, 8, 10, 10, 6, 7, 4, 6, 1, 7, 8, 0, 7, 10, 6, 2, 1, 0, 4, 2, 3, 6, 2, 3, 5, 6, 2, 0, 5, 4, 0, 2, 2, 9, 4, 0, 4, 6, 4, 2, 3, 8, 2, 8, 9, 0, 6, 7, 3, 3, 1, 8, 1, 2, 4, 2, 2, 4, 0, 9, 10, 9, 3, 3, 3, 10, 6, 7, 6, 9, 6, 0, 4, 9, 8, 3, 7, 7, 2, 8, 8, 8, 7, 1, 7, 4, 2, 3, 10, 3, 6, 2, 4, 3, 8, 0, 8, 0, 6, 0, 0, 7, 10, 3, 4, 0, 2, 4, 1, 4, 7, 8, 10, 0, 6, 5, 7, 7, 4, 6, 9, 8, 6, 1, 10, 4, 2, 1, 4, 2, 4, 3, 9, 10, 2, 1, 3, 7, 2, 1, 3, 4, 4, 7, 1, 4, 9, 0, 2, 1, 5, 2, 10, 4, 8, 3, 5, 6, 9, 3, 8, 1, 1, 10, 5, 0, 7, 2, 2, 5, 8, 10, 8, 0, 1, 4, 4, 2, 4, 10, 0, 7, 4, 1, 1, 4, 2, 5, 8, 0, 1, 0, 9, 6, 4, 6, 3, 6, 6, 8, 6, 3, 1, 5, 7, 5, 10, 3, 10, 3, 7, 4, 0, 6, 7, 9, 6, 7, 5, 8, 0, 2, 7, 1, 4, 4, 0, 2, 0, 2, 4, 7, 0, 1, 2, 1, 7, 1, 3, 2, 4, 1, 7, 1, 5, 10, 8, 7, 6, 0, 3, 6, 8, 5, 6, 0, 4, 5, 3, 4, 7, 9, 7, 3, 2, 5, 9, 6, 9, 3, 0, 6, 10, 2, 9, 7, 7, 10, 10, 10, 8, 9, 4, 9, 1, 8, 1, 8, 4, 3, 9, 5, 7, 3, 7, 5, 6, 6, 10, 3, 9, 2, 5, 7, 3, 5, 3, 4, 8, 9, 0, 4, 0, 1, 1, 7, 10, 3, 7, 8, 6, 7, 3, 4, 1, 8, 3, 4, 10, 1, 9, 0, 7, 2, 10, 8, 7, 5, 10, 4, 5, 3, 0, 5, 0, 2, 9, 3, 1, 3, 1, 7, 6, 3, 1, 8, 6, 7, 5, 6, 6, 9, 7, 8, 6, 9, 5, 5, 7, 1, 1, 0, 8, 0, 6, 1, 2, 1, 0, 6, 4, 5, 4, 7, 2, 10, 10, 4, 9, 6, 3, 4, 6, 10, 4, 7, 0, 7, 4, 7, 1, 2, 5, 6, 3, 7, 3, 7, 0, 4, 1, 8, 10, 6, 8, 0, 0, 10, 1, 0, 5, 3, 0, 8, 5, 4, 7, 3, 1, 3, 4, 4, 0, 9, 1, 2, 5, 5, 8, 0, 9, 7, 0, 9, 7, 10, 1, 5, 1, 1, 6, 4, 7, 7, 4, 2, 0, 8, 6, 8, 4, 9, 7, 10, 2, 1, 10, 10, 2, 1, 2, 2, 0, 9, 3, 1, 9, 2, 0, 2, 4, 6, 5, 2, 9, 8, 5, 8, 8, 2, 1, 6, 1, 8, 8, 6, 2, 4, 5, 1, 7, 3, 10, 9, 10, 2, 3, 0, 8, 7, 9, 1, 1, 10, 7, 6, 8, 3, 8, 7, 5, 9, 1, 0, 6, 4, 9, 7, 8, 10, 7, 8, 10, 5, 8, 0, 10, 3, 9, 7, 4, 5, 5, 0, 0, 2, 4, 3, 5, 7, 9, 9, 8, 3, 8, 4, 8, 5, 3, 6, 3, 8, 9, 0, 2, 10, 10, 2, 8, 8, 0, 0, 7, 3, 4, 4, 2, 7, 6, 4, 2, 6, 7, 5, 5, 0, 9, 6, 0, 5, 0, 1, 10, 6, 1, 3, 10, 1, 5, 0, 8, 7, 9, 10, 9, 0, 7, 1, 9, 6, 2, 9, 5, 1, 1, 7, 7, 4, 5, 9, 7, 3, 10, 1, 9, 7, 5, 2, 4, 2, 0, 4, 0, 8, 6, 4, 5, 6, 4, 0, 4, 3, 5, 9, 6, 7, 10, 1, 6, 7, 2, 8, 0, 3, 2, 1, 6, 9, 9, 9, 4, 3, 6, 3, 6, 5, 1, 4, 5, 6, 5, 1, 10, 3, 10, 4, 1, 1, 3, 5, 7, 4, 4, 0, 2, 5, 9, 3, 8, 10, 6, 4, 4, 2, 0, 10, 0, 5, 8, 8, 2, 5, 5, 7, 4, 2, 1, 2, 1, 1, 10, 8, 1, 6, 9, 8, 8, 9, 6, 7, 5, 6, 6, 7, 10, 9, 3, 8, 9, 0, 9, 5, 3, 4, 10, 9, 7, 8, 5, 6, 3, 1, 9, 5, 9, 3, 7, 4, 8, 4, 2, 10, 7, 9, 4, 4, 8, 9, 9, 0, 7, 4, 2, 0, 3, 9, 2, 1, 7, 1, 9, 10, 0, 1, 2, 5, 7, 5, 10, 10, 4, 7, 8, 7, 3, 0, 5, 4, 4, 6, 7, 7, 9, 0, 0, 2, 8, 6, 4, 10, 8, 5, 2, 7, 1, 1, 1, 1, 1, 1, 6, 3, 10, 9, 1, 10, 3, 10, 1, 8, 0, 7, 4, 1, 10, 10, 10, 9, 4, 6, 1, 4, 10, 4, 2, 4, 4, 6, 2, 3, 4, 9, 9, 10, 7, 1, 4, 2, 8, 4, 8, 9, 5, 0, 2, 3, 7, 9, 4, 3, 2, 6, 6, 0, 3, 7, 6, 9, 9, 4, 8, 10, 10, 0, 8, 3, 10, 0, 2, 10, 1, 6, 0, 0, 0, 7, 8, 8, 2, 10, 4, 8, 2, 3, 0, 9, 2, 7, 7, 10, 2, 7, 9, 9, 1, 3, 0, 6, 6, 4, 8, 3, 10, 0, 7, 7, 7, 2, 2, 6, 9, 6, 2, 7, 5, 8, 3, 5, 10, 8, 10, 6, 3, 2, 2, 5, 9, 3, 4, 10, 7, 3, 5, 6, 10, 6, 6, 2, 7, 4, 1, 5, 0, 0, 2, 6, 9, 9, 4, 4, 10, 3, 9, 1, 9, 0, 7, 1, 5, 2, 0, 1, 9, 6, 7, 9, 8, 0, 5, 9, 0, 6, 5, 1, 0, 8, 2, 2, 5, 2, 10, 4, 8, 5, 10, 10, 4, 2, 4, 3, 7, 3, 1, 8, 7, 4, 7, 10, 7, 4, 3, 1, 1, 1, 0, 10, 4, 5, 1, 8, 6, 6, 6, 9, 1, 10, 8, 9, 1, 5, 10, 6, 3, 3, 0, 9, 4, 8, 2, 6, 4, 0, 9, 7, 5, 4, 9, 9, 2, 2, 4, 3, 3, 8, 10, 8, 8, 3, 4, 7, 8, 10, 0, 0, 9, 5, 9, 1, 1, 5, 8, 7, 3, 2, 9, 6, 4, 4, 6, 9, 2, 5, 3, 4, 2, 10, 5, 0, 7, 7, 10, 0, 5, 3, 5, 10, 10, 3, 10, 3, 3, 7, 0, 9, 7, 8, 2, 3, 3, 8, 4, 2, 5, 9, 1, 3, 2, 4, 9, 4, 1, 3, 0, 10, 10, 9, 5, 0, 4, 0, 7, 6, 10, 9, 2, 4, 5, 5, 5, 5, 4, 10, 9, 8, 10, 5, 0, 1, 6, 4, 10, 8, 3, 6, 0, 3, 5, 5, 6, 4, 5, 1, 9, 5, 9, 7, 7, 9, 7, 5, 6, 9, 6, 2, 5, 3, 7, 9, 3, 2, 1, 1, 7, 4, 2, 2, 5, 3, 10, 0, 3, 10, 3, 2, 7, 10, 0, 4, 3, 1, 5, 7, 4, 10, 2, 0, 0, 7, 4, 9, 0, 0, 0, 4, 6, 9, 9, 0, 2, 5, 7, 4, 0, 3, 1, 7, 0, 7, 3, 5, 6, 8, 8, 10, 4, 0, 4, 7, 9, 5, 0, 8, 2, 5, 10, 9, 9, 4, 9, 4, 1, 4, 5, 4, 0, 9, 8, 0, 5, 6, 5, 0, 4, 8, 2, 1, 4, 7, 0, 5, 0, 0, 4, 8, 8, 10, 0, 6, 3, 6, 2, 4, 9, 8, 1, 8, 0, 4, 9, 10, 1, 9, 7, 7, 7, 9, 9, 1, 5, 1, 4, 10, 8, 0, 9, 7, 7, 1, 5, 10, 9, 9, 9, 8, 9, 2, 0, 7, 4, 2, 0, 8, 10, 8, 8, 7, 0, 1, 4, 5, 9, 5, 6, 1, 4, 8, 8, 6, 5, 0, 6, 1, 6, 7, 10, 0, 6, 8, 6, 5, 0, 7, 7, 5, 2, 9, 10, 3, 6, 1, 10, 8, 2, 7, 5, 6, 8, 7, 3, 6, 0, 9, 3, 0, 2, 7, 6, 10, 10, 1, 0, 5, 5, 10, 1, 0, 8, 8, 0, 0, 5, 10, 3, 8, 5, 3, 2, 1, 2, 0, 10, 0, 5, 2, 3, 4, 10, 10, 4, 0, 9, 6, 0, 3, 6, 7, 5, 5, 0, 4, 4, 2, 7, 6, 10, 0, 1, 7, 8, 0, 10, 4, 6, 4, 0, 5, 8, 10, 4, 3, 8, 8, 4, 6, 6, 1, 5, 0, 6, 0, 4, 3, 0, 4, 5, 4, 8, 8, 8, 6, 3, 9, 7, 2, 7, 5, 5, 4, 0, 7, 0, 0, 4, 5, 6, 3, 7, 9, 9, 4, 4, 5, 2, 7, 7, 9, 2, 1, 4, 6, 7, 9, 0, 5, 6, 8, 10, 3, 8, 3, 8, 5, 4, 1, 6, 7, 1, 10, 3, 3, 6, 2, 0, 7, 4, 7, 10, 3, 3, 5, 10, 6, 2, 8, 10, 6, 9, 6, 2, 4, 5, 7, 2, 3, 9, 5, 9, 1, 3, 3, 1, 4, 7, 0, 0, 10, 2, 5, 1, 2, 5, 7, 7, 5, 9, 7, 8, 2, 8, 6, 6, 5, 0, 10, 8, 4, 2, 10, 1, 1, 1, 8, 2, 9, 1, 1, 9, 0, 6, 0, 6, 1, 3, 2, 3, 6, 6, 6, 5, 0, 9, 6, 1, 10, 5, 1, 0, 9, 0, 6, 1, 0, 10, 2, 5, 7, 0, 4, 0, 2, 7, 1, 6, 2, 7, 5, 9, 3, 7, 3, 1, 7, 10, 2, 9, 2, 2, 2, 2, 7, 6, 4, 5, 10, 2, 0, 2, 6, 8, 9, 5, 10, 10, 8, 2, 7, 2, 4, 1, 6, 7, 7, 0, 3, 6, 6, 1, 6, 0, 1, 10, 10, 2, 7, 1, 10, 8, 2, 5, 0, 3, 3, 8, 5, 10, 7, 0, 9, 4, 6, 8, 3, 8, 7, 5, 1, 1, 1, 7, 6, 7, 10, 7, 1, 0, 1, 1, 0, 10, 4, 6, 8, 5, 8, 8, 6, 5, 4, 8, 7, 9, 1, 1, 5, 3, 4, 2, 8, 2, 2, 4, 4, 9, 0, 3, 10, 3, 1, 5, 5, 6, 9, 1, 6, 10, 1, 9, 2, 7, 1, 5, 3, 2, 2, 5, 6, 9, 7, 0, 7, 0, 4, 2, 7, 9, 9, 0, 8, 10, 4, 5, 8, 5, 5, 8, 1, 2, 9, 4, 1, 2, 4, 8, 3, 2, 4, 9, 5, 4, 2, 1, 2, 3, 7, 2, 10, 1, 7, 0, 5, 7, 9, 3, 2, 6, 6, 2, 6, 9, 2, 9, 8, 2, 0, 0, 7, 10, 9, 3, 5, 7, 5, 9, 1, 6, 6, 1, 2, 0, 6, 3, 3, 4, 4, 8, 2, 8, 6, 7, 10, 3, 6, 9, 5, 4, 6, 10, 10, 2, 1, 2, 0, 2, 7, 0, 2, 9, 5, 3, 7, 8, 3, 10, 4, 5, 3, 0, 2, 3, 3, 8, 6, 7, 7, 8, 4, 4, 7, 8, 8, 10, 4, 0, 5, 10, 10, 0, 3, 9, 7, 9, 2, 4, 5, 2, 0, 8, 6, 2, 6, 6, 9, 6, 5, 4, 1, 0, 2, 8, 7, 7, 5, 1, 9, 9, 10, 9, 9, 0, 4, 5, 9, 7, 7, 5, 0, 8, 6, 5, 2, 8, 6, 1, 9, 10, 0, 6, 8, 10, 6, 4, 0, 9, 10, 2, 0, 8, 0, 6, 7, 5, 6, 10, 10, 0, 6, 4, 2, 3, 7, 4, 0, 3, 9, 7, 7, 3, 9, 5, 8, 3, 2, 7, 9, 4, 2, 3, 2, 6, 1, 5, 1, 7, 4, 1, 6, 8, 3, 2, 10, 1, 9, 3, 3, 5, 0, 7, 2, 1, 10, 0, 0, 7, 10, 8, 10, 4, 4, 1, 2, 4, 9, 4, 3, 4, 0, 2, 7, 4, 8, 9, 1, 2, 8, 2, 5, 10, 7, 2, 8, 7, 1, 9, 7, 1, 4, 0, 1, 3, 3, 9, 8, 4, 10, 10, 5, 10, 4, 3, 2, 1, 3, 3, 8, 4, 3, 8, 9, 4, 3, 0, 3, 10, 8, 7, 7, 1, 6, 2, 6, 10, 0, 1, 3, 5, 0, 7, 3, 2, 0, 3, 0, 2, 10, 10, 0, 8, 9, 8, 7, 10, 2, 2, 10, 1, 2, 6, 6, 4, 6, 5, 1, 8, 0, 3, 8, 5, 8, 8, 5, 5, 1, 4, 5, 10, 3, 4, 3, 8, 0, 3, 1, 1, 10, 1, 5, 8, 5, 8, 8, 4, 4, 8, 10, 3, 10, 7, 5, 8, 9, 0, 5, 1, 7, 4, 4, 3, 7, 3, 9, 10, 9, 10, 2, 2, 7, 5, 9, 3, 3, 0, 1, 6, 7, 2, 1, 4, 7, 2, 3, 1, 10, 2, 0, 4, 8, 5, 6, 8, 6, 5, 9, 3, 1, 9, 1, 0, 0, 1, 4, 5, 5, 10, 4, 2, 5, 9, 0, 10, 10, 2, 7, 3, 6, 6, 5, 7, 9, 7, 7, 3, 2, 2, 3, 1, 5, 9, 7, 4, 0, 6, 7, 6, 9, 2, 4, 8, 3, 8, 4, 10, 4, 6, 9, 10, 8, 2, 6, 7, 5, 7, 8, 9, 10, 10, 4, 4, 2, 7, 9, 4, 8, 10, 6, 2, 6, 10, 4, 9, 6, 6, 1, 0, 9, 4, 5, 10, 5, 10, 3, 3, 4, 8, 8, 9, 5, 4, 2, 10, 4, 9, 9, 10, 2, 8, 0, 6, 2, 0, 0, 5, 6, 2, 8, 4, 7, 3, 8, 4, 2, 7, 6, 1, 3, 4, 2, 10, 3, 4, 10, 2, 4, 6, 9, 5, 7, 5, 1, 5, 9, 9, 4, 7, 5, 0, 7, 6, 1, 3, 3, 4, 5, 6, 9, 1, 2, 5, 0, 4, 4, 5, 9, 4, 3, 9, 9, 0, 0, 0, 2, 9, 7, 9, 10, 6, 8, 6, 10, 10, 0, 4, 10, 0, 10, 8, 1, 10, 1, 0, 2, 7, 5, 6, 9, 9, 3, 8, 5, 6, 10, 10, 7, 7, 1, 7, 9, 4, 3, 9, 2, 6, 0, 7, 10, 8, 6, 0, 7, 9, 9, 0, 10, 3, 5, 9, 2, 1, 1, 7, 8, 8, 9, 4, 4, 4, 7, 10, 2, 3, 3, 4, 5, 4, 7, 9, 9, 10, 5, 8, 0, 8, 4, 8, 5, 3, 6, 1, 8, 2, 3, 8, 1, 5, 3, 7, 2, 7, 9, 4, 6, 3, 0, 1, 5, 5, 0, 5, 6, 5, 10, 7, 8, 5, 3, 0, 8, 6, 0, 7, 8, 5, 5, 2, 9, 0, 8, 10, 10, 7, 3, 2, 0, 10, 10, 1, 6, 4, 3, 3, 8, 0, 7, 0, 4, 8, 0, 9, 3, 9, 1, 1, 2, 5, 7, 3, 0, 0, 8, 8, 0, 8, 5, 7, 0, 7, 7, 6, 1, 4, 1, 5, 10, 1, 10, 6, 10, 8, 4, 0, 10, 1, 7, 2, 3, 8, 0, 9, 10, 10, 2, 0, 4, 8, 3, 2, 3, 7, 6, 10, 6, 2, 1, 4, 7, 7, 1, 0, 5, 10, 8, 3, 6, 3, 2, 4, 7, 8, 10, 6, 9, 8, 3, 1, 8, 4, 7, 4, 4, 5, 9, 4, 9, 0, 5, 7, 4, 8, 10, 10, 2, 1, 3, 1, 3, 4, 9, 5, 8, 9, 5, 10, 10, 8, 7, 1, 0, 3, 8, 6, 9, 6, 1, 4, 3, 7, 6, 1, 8, 3, 7, 2, 9, 7, 6, 0, 5, 0, 9, 10, 4, 1, 4, 6, 5, 1, 7, 3, 2, 3, 1, 7, 3, 4, 5, 0, 9, 1, 6, 8, 8, 8, 7, 8, 1, 9, 6, 8, 3, 8, 7, 8, 7, 4, 6, 0, 10, 6, 7, 2, 1, 6, 10, 6, 6, 6, 1, 5, 7, 3, 10, 1, 0, 5, 9, 6, 0, 1, 2, 8, 6, 4, 1, 7, 4, 1, 7, 8, 7, 9, 3, 0, 6, 5, 8, 2, 10, 3, 9, 8, 8, 4, 10, 10, 6, 1, 9, 6, 8, 1, 0, 8, 1, 6, 10, 8, 5, 5, 6, 1, 8, 10, 10, 3, 2, 6, 1, 3, 4, 6, 0, 9, 8, 2, 4, 2, 7, 8, 2, 5, 3, 1, 2, 0, 8, 1, 0, 10, 7, 9, 9, 0, 9, 6, 8, 8, 10, 7, 4, 4, 0, 1, 2, 2, 6, 1, 0, 1, 10, 1, 3, 2, 3, 1, 0, 4, 10, 7, 3, 9, 9, 5, 1, 3, 2, 4, 1, 8, 8, 4, 2, 5, 8, 4, 7, 3, 7, 4, 2, 6, 3, 9, 5, 8, 10, 5, 2, 9, 10, 10, 1, 5, 5, 8, 7, 1, 0, 9, 3, 4, 7, 7, 6, 1, 5, 10, 9, 3, 1, 10, 7, 7, 7, 1, 2, 6, 9, 9, 7, 3, 9, 0, 7, 8, 7, 6, 8, 2, 2, 6, 5, 10, 7, 9, 10, 4, 10, 8, 1, 7, 3, 10, 10, 0, 5, 0, 2, 7, 9, 5, 2, 5, 9, 1, 9, 7, 1, 3, 1, 0, 1, 10, 0, 6, 7, 9, 6, 5, 2, 8, 5, 9, 0, 1, 8, 0, 3, 4, 6, 0, 7, 2, 2, 0, 3, 2, 10, 0, 9, 7, 9, 2, 1, 4, 2, 0, 9, 4, 0, 4, 2, 3, 1, 0, 7, 5, 4, 8, 7, 10, 8, 4, 6, 3, 9, 6, 10, 8, 5, 6, 10, 2, 4, 7, 7, 0, 2, 3, 1, 7, 2, 4, 10, 3, 2, 2, 0, 0, 6, 7, 8, 8, 4, 3, 8, 4, 5, 10, 0, 10, 4, 4, 4, 4, 1, 9, 5, 5, 5, 3, 9, 1, 1, 7, 0, 4, 1, 4, 10, 5, 1, 3, 5, 6, 8, 10, 4, 8, 1, 2, 4, 6, 4, 7, 8, 1, 9, 0, 0, 3, 4, 10, 6, 3, 6, 7, 7, 7, 0, 2, 10, 1, 6, 7, 2, 3, 8, 8, 10, 0, 3, 7, 6, 4, 3, 6, 2, 5, 5, 8, 2, 10, 3, 0, 0, 0, 1, 10, 5, 6, 1, 3, 10, 10, 1, 7, 0, 0, 7, 5, 6, 10, 5, 3, 4, 4, 9, 6, 8, 1, 0, 2, 5, 10, 1, 0, 4, 4, 4, 5, 9, 6, 1, 4, 5, 1, 8, 9, 0, 4, 7, 6, 9, 8, 1, 4, 4, 2, 10, 1, 5, 5, 9, 7, 4, 3]\n"
          ]
        }
      ]
    },
    {
      "cell_type": "code",
      "source": [
        "# prompt: given an array of N integers, print the 3 distinct maximum and 3 distinct minimum elements of the array.\n",
        "\n",
        "def find_max_min(arr):\n",
        "  \"\"\"\n",
        "  Finds the 3 distinct maximum and 3 distinct minimum elements of an array.\n",
        "\n",
        "  Args:\n",
        "    arr: A list of integers.\n",
        "\n",
        "  Returns:\n",
        "    A tuple containing two lists: the 3 distinct maximum elements and the 3 distinct minimum elements.\n",
        "  \"\"\"\n",
        "  distinct_arr = sorted(list(set(arr)))\n",
        "\n",
        "  if len(distinct_arr) < 3:\n",
        "    max_elements = distinct_arr\n",
        "    min_elements = distinct_arr\n",
        "  else:\n",
        "    max_elements = distinct_arr[-3:]\n",
        "    min_elements = distinct_arr[:3]\n",
        "\n",
        "  return max_elements, min_elements\n",
        "\n",
        "\n",
        "# Example usage\n",
        "arr = [1, 2, 3, 4, 5, 6, 7, 8, 9, 10]\n",
        "max_elements, min_elements = find_max_min(arr)\n",
        "print(\"3 distinct maximum elements:\", max_elements)\n",
        "print(\"3 distinct minimum elements:\", min_elements)\n"
      ],
      "metadata": {
        "id": "JJrr0DRnSSyS"
      },
      "execution_count": null,
      "outputs": []
    },
    {
      "cell_type": "code",
      "source": [
        "# prompt: code to find the lingth of a list\n",
        "\n",
        "my_list = [1, 2, 3, 4, 5]\n",
        "list_length = len(my_list)\n",
        "print(\"The length of the list is:\", list_length)\n",
        "L = [3    ]"
      ],
      "metadata": {
        "id": "NQT7Md6ZRZbq"
      },
      "execution_count": null,
      "outputs": []
    },
    {
      "cell_type": "code",
      "source": [
        "L = [2,4,5,3,1]\n",
        "L.sort()\n",
        "print (L)"
      ],
      "metadata": {
        "colab": {
          "base_uri": "https://localhost:8080/"
        },
        "id": "cnNIak_puHSU",
        "outputId": "d0229288-45cc-4d1e-8622-1527affdad8a"
      },
      "execution_count": 3,
      "outputs": [
        {
          "output_type": "stream",
          "name": "stdout",
          "text": [
            "[1, 2, 3, 4, 5]\n"
          ]
        }
      ]
    },
    {
      "cell_type": "code",
      "source": [
        "# prompt: generate bubble sort code\n",
        "\n",
        "def bubble_sort(list_):\n",
        "  n = len(list_)\n",
        "  for i in range(n-1):\n",
        "    for j in range(n-i-1):\n",
        "      if list_[j] > list_[j+1]:\n",
        "        list_[j], list_[j+1] = list_[j+1], list_[j]\n",
        "  return list_\n"
      ],
      "metadata": {
        "id": "1aLoUl9FzhVR"
      },
      "execution_count": null,
      "outputs": []
    },
    {
      "cell_type": "code",
      "source": [
        "# prompt: code to generate a new key value pair to a dictionary with key as new_key and value as new_value\n",
        "\n",
        "my_dict = {'a': 1, 'b': 2}\n",
        "new_key = 'c'\n",
        "new_value = 3\n",
        "\n",
        "my_dict[new_key] = new_value\n",
        "my_dict['h'] = 'Z'\n",
        "\n",
        "print(my_dict)\n"
      ],
      "metadata": {
        "colab": {
          "base_uri": "https://localhost:8080/"
        },
        "id": "JpA57vqbYvSU",
        "outputId": "b24e46a3-337c-4d3b-cbad-08ddb19e65d4"
      },
      "execution_count": 2,
      "outputs": [
        {
          "output_type": "stream",
          "name": "stdout",
          "text": [
            "{'a': 1, 'b': 2, 'c': 3, 'h': 'Z'}\n"
          ]
        }
      ]
    },
    {
      "cell_type": "code",
      "source": [
        "# prompt: generate a function sort_ascending which will take a list of numbers and sort in acending order without using sorted function\n",
        "\n",
        "def sort_ascending(numbers):\n",
        "  \"\"\"\n",
        "  Sorts a list of numbers in ascending order without using the sorted() function.\n",
        "\n",
        "  Args:\n",
        "    numbers: A list of numbers.\n",
        "\n",
        "  Returns:\n",
        "    A new list containing the numbers sorted in ascending order.\n",
        "  \"\"\"\n",
        "  n = len(numbers)\n",
        "  for i in range(n):\n",
        "    for j in range(0, n-i-1):\n",
        "      if numbers[j] > numbers[j+1]:\n",
        "        numbers[j], numbers[j+1] = numbers[j+1], numbers[j]\n",
        "  return numbers\n",
        "\n"
      ],
      "metadata": {
        "id": "pSq_dJrgRxgr"
      },
      "execution_count": null,
      "outputs": []
    },
    {
      "cell_type": "code",
      "source": [
        "# prompt: generate a function sort_decending which will take a list of numbers and sort in decending order without using Sorted function\n",
        "\n",
        "def sort_descending(numbers):\n",
        "  \"\"\"\n",
        "  Sorts a list of numbers in descending order without using the sorted() function.\n",
        "\n",
        "  Args:\n",
        "    numbers: A list of numbers.\n",
        "\n",
        "  Returns:\n",
        "    A new list containing the numbers sorted in descending order.\n",
        "  \"\"\"\n",
        "  n = len(numbers)\n",
        "  for i in range(n):\n",
        "    for j in range(0, n-i-1):\n",
        "      if numbers[j] < numbers[j+1]:\n",
        "        numbers[j], numbers[j+1] = numbers[j+1], numbers[j]\n",
        "  return numbers\n"
      ],
      "metadata": {
        "id": "zAuid5H9SEMN"
      },
      "execution_count": null,
      "outputs": []
    },
    {
      "cell_type": "code",
      "source": [
        "# prompt: generate a function sort_books_decending which will take a list of Tuples which should be arranged in descending order based on the second element in the Tuple  without using sorted\n",
        "\n",
        "def sort_books_descending(books):\n",
        "  \"\"\"\n",
        "  Sorts a list of book tuples in descending order based on the second element (price)\n",
        "  without using the sorted() function.\n",
        "\n",
        "  Args:\n",
        "    books: A list of tuples, where each tuple represents a book and contains\n",
        "           (book_name, price).\n",
        "\n",
        "  Returns:\n",
        "    A new list containing the book tuples sorted in descending order based on price.\n",
        "  \"\"\"\n",
        "  n = len(books)\n",
        "  for i in range(n):\n",
        "    for j in range(0, n - i - 1):\n",
        "      if books[j][1] < books[j + 1][1]:  # Compare prices (second element)\n",
        "        books[j], books[j + 1] = books[j + 1], books[j]\n",
        "  return books\n"
      ],
      "metadata": {
        "id": "WRvWsc6hYqhD"
      },
      "execution_count": null,
      "outputs": []
    },
    {
      "cell_type": "code",
      "source": [
        "# prompt: Generate a function solve which takes number of elements \"n\", unsorted list of integers \"nums\" seperated by space and an integer \"K\" representing the position of the smallest element to find in the list \"nums\" using selection algorithm\n",
        "\n",
        "def solve():\n",
        "  \"\"\"\n",
        "  Finds the Kth smallest element in an unsorted list of integers using the selection algorithm.\n",
        "  \"\"\"\n",
        "  n, *nums, k = map(int, input().split())\n",
        "  nums = list(map(int, nums))\n",
        "  k -= 1  # Adjust K to be 0-based index\n",
        "\n",
        "  def find_kth_smallest(arr, k):\n",
        "    \"\"\"\n",
        "    Helper function to find the Kth smallest element using selection algorithm.\n",
        "    \"\"\"\n",
        "    if not arr:\n",
        "      return None\n",
        "\n",
        "    def partition(arr, left, right, pivot_index):\n",
        "      pivot = arr[pivot_index]\n",
        "      arr[pivot_index], arr[right] = arr[right], arr[pivot_index]\n",
        "      store_index = left\n",
        "      for i in range(left, right):\n",
        "        if arr[i] < pivot:\n",
        "          arr[i], arr[store_index] = arr[store_index], arr[i]\n",
        "          store_index += 1\n",
        "      arr[store_index], arr[right] = arr[right], arr[store_index]\n",
        "      return store_index\n",
        "\n",
        "    left, right = 0, len(arr) - 1\n",
        "    while left <= right:\n",
        "      pivot_index = left\n",
        "      pivot_index = partition(arr, left, right, pivot_index)\n",
        "\n",
        "      if pivot_index == k:\n",
        "        return arr[pivot_index]\n",
        "      elif pivot_index < k:\n",
        "        left = pivot_index + 1\n",
        "      else:\n",
        "        right = pivot_index - 1\n",
        "\n",
        "    return None\n",
        "\n",
        "  result = find_kth_smallest(nums, k)\n",
        "  print(result)\n",
        "\n",
        "solve()\n"
      ],
      "metadata": {
        "colab": {
          "base_uri": "https://localhost:8080/"
        },
        "id": "-NwWDZMI8FF7",
        "outputId": "97ce8fb5-1d85-4826-a3e0-98ec933e546d"
      },
      "execution_count": 1,
      "outputs": [
        {
          "output_type": "stream",
          "name": "stdout",
          "text": [
            "6 7 10 4 3 20 15 3\n",
            "7\n"
          ]
        }
      ]
    },
    {
      "cell_type": "code",
      "source": [
        "# prompt: generate a function solve implementing selection Sorting ASlgorithm on a list of integers \"nums\"\n",
        "\n",
        "def solve():\n",
        "  \"\"\"\n",
        "  Sorts a list of integers using the selection sort algorithm.\n",
        "  \"\"\"\n",
        "  n, *nums = map(int, input().split())\n",
        "  nums = list(map(int, nums))\n",
        "\n",
        "  def selection_sort(arr):\n",
        "    \"\"\"\n",
        "    Helper function to implement selection sort.\n",
        "    \"\"\"\n",
        "    n = len(arr)\n",
        "    for i in range(n):\n",
        "      min_idx = i\n",
        "      for j in range(i + 1, n):\n",
        "        if arr[j] < arr[min_idx]:\n",
        "          min_idx = j\n",
        "      arr[i], arr[min_idx] = arr[min_idx], arr[i]\n",
        "    return arr\n",
        "\n",
        "  sorted_nums = selection_sort(nums)\n",
        "  print(*sorted_nums)\n",
        "\n",
        "solve()\n"
      ],
      "metadata": {
        "id": "e41TgX4m_Cbm"
      },
      "execution_count": null,
      "outputs": []
    },
    {
      "cell_type": "code",
      "source": [
        "# prompt: in the above selection sort algorithm implmentation, find the K th smallest element\n",
        "\n",
        "def solve():\n",
        "  \"\"\"\n",
        "  Finds the Kth smallest element in an unsorted list of integers using the selection sort algorithm.\n",
        "  \"\"\"\n",
        "  n, *nums, k = map(int, input().split())\n",
        "  nums = list(map(int, nums))\n",
        "  k -= 1  # Adjust K to be 0-based index\n",
        "\n",
        "  def selection_sort_kth(arr, k):\n",
        "    \"\"\"\n",
        "    Helper function to implement selection sort and find the Kth smallest element.\n",
        "    \"\"\"\n",
        "    n = len(arr)\n",
        "    for i in range(min(n, k + 1)):  # Only sort up to the Kth element\n",
        "      min_idx = i\n",
        "      for j in range(i + 1, n):\n",
        "        if arr[j] < arr[min_idx]:\n",
        "          min_idx = j\n",
        "      arr[i], arr[min_idx] = arr[min_idx], arr[i]\n",
        "    if k < n:\n",
        "      return arr[k]  # Return the Kth smallest element\n",
        "    else:\n",
        "      return None  # K is out of bounds\n",
        "\n",
        "  kth_smallest = selection_sort_kth(nums, k)\n",
        "  print(kth_smallest)\n",
        "\n",
        "solve()\n"
      ],
      "metadata": {
        "id": "5UKEtJJAAYXV"
      },
      "execution_count": null,
      "outputs": []
    }
  ]
}